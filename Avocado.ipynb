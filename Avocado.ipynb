{
  "nbformat": 4,
  "nbformat_minor": 0,
  "metadata": {
    "colab": {
      "provenance": [],
      "include_colab_link": true
    },
    "kernelspec": {
      "display_name": "Python 3",
      "name": "python3"
    },
    "language_info": {
      "name": "python"
    }
  },
  "cells": [
    {
      "cell_type": "markdown",
      "metadata": {
        "id": "view-in-github",
        "colab_type": "text"
      },
      "source": [
        "<a href=\"https://colab.research.google.com/github/hadar-grimberg/data-science-portfolio/blob/main/Avocado.ipynb\" target=\"_parent\"><img src=\"https://colab.research.google.com/assets/colab-badge.svg\" alt=\"Open In Colab\"/></a>"
      ]
    },
    {
      "cell_type": "code",
      "metadata": {
        "colab": {
          "base_uri": "https://localhost:8080/"
        },
        "id": "7S24R4sz0qAQ",
        "outputId": "562ac2d4-b1b8-451c-b15e-bbb45c733a4d"
      },
      "source": [
        "from google.colab import drive\n",
        "drive.mount('/content/gdrive')\n",
        "root_path = '/content/gdrive/MyDrive/avocado.csv'"
      ],
      "execution_count": null,
      "outputs": [
        {
          "output_type": "stream",
          "name": "stdout",
          "text": [
            "Drive already mounted at /content/gdrive; to attempt to forcibly remount, call drive.mount(\"/content/gdrive\", force_remount=True).\n"
          ]
        }
      ]
    },
    {
      "cell_type": "markdown",
      "source": [
        "# New Section"
      ],
      "metadata": {
        "id": "roa0l-EVzjqb"
      }
    },
    {
      "cell_type": "code",
      "source": [
        "from google.colab import drive\n",
        "drive.mount('/content/drive')"
      ],
      "metadata": {
        "id": "7JiWLCRuzpUW"
      },
      "execution_count": null,
      "outputs": []
    },
    {
      "cell_type": "code",
      "metadata": {
        "colab": {
          "base_uri": "https://localhost:8080/",
          "height": 90
        },
        "id": "KOX2jDN4viVa",
        "outputId": "2bedc540-0c89-44e5-8873-f94e0ed4f113"
      },
      "source": [
        "# -*- coding: utf-8 -*-\n",
        "\"\"\"\n",
        "Primrose\n",
        "\"\"\"\n",
        "\n",
        "import numpy as np\n",
        "import tensorflow as tf\n",
        "import pandas as pd\n",
        "import matplotlib.pyplot as plt\n",
        "from sklearn.preprocessing import StandardScaler\n",
        "from sklearn.model_selection import train_test_split\n",
        "import seaborn as sns\n",
        "\n",
        "\"\"\"Some relevant columns in the dataset:\n",
        "\n",
        "    Date - The date of the observation\n",
        "    AveragePrice - the average price of a single avocado\n",
        "    type - conventional or organic\n",
        "    year - the year\n",
        "    Region - the city or region of the observation\n",
        "    Total Volume - Total number of avocados sold\n",
        "    4046 - Total number of avocados with PLU 4046 sold\n",
        "    4225 - Total number of avocados with PLU 4225 sold\n",
        "    4770 - Total number of avocados with PLU 4770 sold\n",
        "\"\"\""
      ],
      "execution_count": null,
      "outputs": [
        {
          "output_type": "execute_result",
          "data": {
            "application/vnd.google.colaboratory.intrinsic+json": {
              "type": "string"
            },
            "text/plain": [
              "'Some relevant columns in the dataset:\\n\\n    Date - The date of the observation\\n    AveragePrice - the average price of a single avocado\\n    type - conventional or organic\\n    year - the year\\n    Region - the city or region of the observation\\n    Total Volume - Total number of avocados sold\\n    4046 - Total number of avocados with PLU 4046 sold\\n    4225 - Total number of avocados with PLU 4225 sold\\n    4770 - Total number of avocados with PLU 4770 sold\\n'"
            ]
          },
          "metadata": {},
          "execution_count": 9
        }
      ]
    },
    {
      "cell_type": "code",
      "metadata": {
        "id": "ejJfu-GIL_Qc"
      },
      "source": [
        "\n",
        "# option controls the number of columns / rows to be printed\n",
        "pd.set_option('display.max_columns', None)\n",
        "pd.set_option('display.max_rows', None)\n",
        "pd.set_option('float_format', '{:.2f}'.format)\n",
        "\n",
        "# read data\n",
        "avocado = pd.read_csv(root_path)\n"
      ],
      "execution_count": null,
      "outputs": []
    },
    {
      "cell_type": "code",
      "metadata": {
        "colab": {
          "base_uri": "https://localhost:8080/"
        },
        "id": "7wPmZU1yMFt6",
        "outputId": "7b34275a-c3b1-4b6a-9e05-eb782662e588"
      },
      "source": [
        "# explore the data\n",
        "print(avocado.head())"
      ],
      "execution_count": null,
      "outputs": [
        {
          "output_type": "stream",
          "name": "stdout",
          "text": [
            "   Unnamed: 0        Date  AveragePrice  Total Volume    4046      4225  \\\n",
            "0           0  2015-12-27          1.33      64236.62 1036.74  54454.85   \n",
            "1           1  2015-12-20          1.35      54876.98  674.28  44638.81   \n",
            "2           2  2015-12-13          0.93     118220.22  794.70 109149.67   \n",
            "3           3  2015-12-06          1.08      78992.15 1132.00  71976.41   \n",
            "4           4  2015-11-29          1.28      51039.60  941.48  43838.39   \n",
            "\n",
            "    4770  Total Bags  Small Bags  Large Bags  XLarge Bags          type  year  \\\n",
            "0  48.16     8696.87     8603.62       93.25         0.00  conventional  2015   \n",
            "1  58.33     9505.56     9408.07       97.49         0.00  conventional  2015   \n",
            "2 130.50     8145.35     8042.21      103.14         0.00  conventional  2015   \n",
            "3  72.58     5811.16     5677.40      133.76         0.00  conventional  2015   \n",
            "4  75.78     6183.95     5986.26      197.69         0.00  conventional  2015   \n",
            "\n",
            "   region  \n",
            "0  Albany  \n",
            "1  Albany  \n",
            "2  Albany  \n",
            "3  Albany  \n",
            "4  Albany  \n"
          ]
        }
      ]
    },
    {
      "cell_type": "code",
      "metadata": {
        "colab": {
          "base_uri": "https://localhost:8080/"
        },
        "id": "5gwUA1joMIv5",
        "outputId": "b88914b6-8234-43b6-a022-1f154e7bbdfa"
      },
      "source": [
        "print(avocado.tail())"
      ],
      "execution_count": null,
      "outputs": [
        {
          "output_type": "stream",
          "name": "stdout",
          "text": [
            "       Unnamed: 0        Date  AveragePrice  Total Volume    4046    4225  \\\n",
            "18244           7  2018-02-04          1.63      17074.83 2046.96 1529.20   \n",
            "18245           8  2018-01-28          1.71      13888.04 1191.70 3431.50   \n",
            "18246           9  2018-01-21          1.87      13766.76 1191.92 2452.79   \n",
            "18247          10  2018-01-14          1.93      16205.22 1527.63 2981.04   \n",
            "18248          11  2018-01-07          1.62      17489.58 2894.77 2356.13   \n",
            "\n",
            "        4770  Total Bags  Small Bags  Large Bags  XLarge Bags     type  year  \\\n",
            "18244   0.00    13498.67    13066.82      431.85         0.00  organic  2018   \n",
            "18245   0.00     9264.84     8940.04      324.80         0.00  organic  2018   \n",
            "18246 727.94     9394.11     9351.80       42.31         0.00  organic  2018   \n",
            "18247 727.01    10969.54    10919.54       50.00         0.00  organic  2018   \n",
            "18248 224.53    12014.15    11988.14       26.01         0.00  organic  2018   \n",
            "\n",
            "                 region  \n",
            "18244  WestTexNewMexico  \n",
            "18245  WestTexNewMexico  \n",
            "18246  WestTexNewMexico  \n",
            "18247  WestTexNewMexico  \n",
            "18248  WestTexNewMexico  \n"
          ]
        }
      ]
    },
    {
      "cell_type": "code",
      "metadata": {
        "colab": {
          "base_uri": "https://localhost:8080/"
        },
        "id": "ablJ-PsZMK_q",
        "outputId": "a549e90b-ba4a-49c6-c076-3dd922c45b75"
      },
      "source": [
        "print(avocado.info())"
      ],
      "execution_count": null,
      "outputs": [
        {
          "output_type": "stream",
          "name": "stdout",
          "text": [
            "<class 'pandas.core.frame.DataFrame'>\n",
            "RangeIndex: 18249 entries, 0 to 18248\n",
            "Data columns (total 14 columns):\n",
            " #   Column        Non-Null Count  Dtype  \n",
            "---  ------        --------------  -----  \n",
            " 0   Unnamed: 0    18249 non-null  int64  \n",
            " 1   Date          18249 non-null  object \n",
            " 2   AveragePrice  18249 non-null  float64\n",
            " 3   Total Volume  18249 non-null  float64\n",
            " 4   4046          18249 non-null  float64\n",
            " 5   4225          18249 non-null  float64\n",
            " 6   4770          18249 non-null  float64\n",
            " 7   Total Bags    18249 non-null  float64\n",
            " 8   Small Bags    18249 non-null  float64\n",
            " 9   Large Bags    18249 non-null  float64\n",
            " 10  XLarge Bags   18249 non-null  float64\n",
            " 11  type          18249 non-null  object \n",
            " 12  year          18249 non-null  int64  \n",
            " 13  region        18249 non-null  object \n",
            "dtypes: float64(9), int64(2), object(3)\n",
            "memory usage: 1.9+ MB\n",
            "None\n"
          ]
        }
      ]
    },
    {
      "cell_type": "code",
      "metadata": {
        "colab": {
          "base_uri": "https://localhost:8080/"
        },
        "id": "GJd6nJRJMNTl",
        "outputId": "ae673b84-ac9e-4381-c283-aaabc54ab8b1"
      },
      "source": [
        "print(avocado.describe())"
      ],
      "execution_count": null,
      "outputs": [
        {
          "output_type": "stream",
          "name": "stdout",
          "text": [
            "       Unnamed: 0  AveragePrice  Total Volume        4046        4225  \\\n",
            "count    18249.00      18249.00      18249.00    18249.00    18249.00   \n",
            "mean        24.23          1.41     850644.01   293008.42   295154.57   \n",
            "std         15.48          0.40    3453545.36  1264989.08  1204120.40   \n",
            "min          0.00          0.44         84.56        0.00        0.00   \n",
            "25%         10.00          1.10      10838.58      854.07     3008.78   \n",
            "50%         24.00          1.37     107376.76     8645.30    29061.02   \n",
            "75%         38.00          1.66     432962.29   111020.20   150206.86   \n",
            "max         52.00          3.25   62505646.52 22743616.17 20470572.61   \n",
            "\n",
            "            4770  Total Bags  Small Bags  Large Bags  XLarge Bags     year  \n",
            "count   18249.00    18249.00    18249.00    18249.00     18249.00 18249.00  \n",
            "mean    22839.74   239639.20   182194.69    54338.09      3106.43  2016.15  \n",
            "std    107464.07   986242.40   746178.51   243965.96     17692.89     0.94  \n",
            "min         0.00        0.00        0.00        0.00         0.00  2015.00  \n",
            "25%         0.00     5088.64     2849.42      127.47         0.00  2015.00  \n",
            "50%       184.99    39743.83    26362.82     2647.71         0.00  2016.00  \n",
            "75%      6243.42   110783.37    83337.67    22029.25       132.50  2017.00  \n",
            "max   2546439.11 19373134.37 13384586.80  5719096.61    551693.65  2018.00  \n"
          ]
        }
      ]
    },
    {
      "cell_type": "code",
      "metadata": {
        "colab": {
          "base_uri": "https://localhost:8080/"
        },
        "id": "S5KU6TOjMPco",
        "outputId": "a73e0b38-1e1e-4f05-a4f1-633579958962"
      },
      "source": [
        "# Check liniarity between features\n",
        "avocado['total'] = avocado[['Small Bags', 'Large Bags', 'XLarge Bags']].sum(axis=1)\n",
        "avocado['diff'] = np.abs(avocado.total-avocado['Total Bags'])\n",
        "print(avocado[np.abs(avocado.total-avocado['Total Bags'])>1])"
      ],
      "execution_count": null,
      "outputs": [
        {
          "output_type": "stream",
          "name": "stdout",
          "text": [
            "Empty DataFrame\n",
            "Columns: [Unnamed: 0, Date, AveragePrice, Total Volume, 4046, 4225, 4770, Total Bags, Small Bags, Large Bags, XLarge Bags, type, year, region, total, diff]\n",
            "Index: []\n"
          ]
        }
      ]
    },
    {
      "cell_type": "code",
      "metadata": {
        "colab": {
          "base_uri": "https://localhost:8080/",
          "height": 335
        },
        "id": "xJIP7GtzMSxt",
        "outputId": "5c18c1c7-9e9e-49a1-c750-1158a5b691c0"
      },
      "source": [
        "sns.distplot(avocado['AveragePrice']);"
      ],
      "execution_count": null,
      "outputs": [
        {
          "output_type": "stream",
          "name": "stderr",
          "text": [
            "/usr/local/lib/python3.7/dist-packages/seaborn/distributions.py:2619: FutureWarning: `distplot` is a deprecated function and will be removed in a future version. Please adapt your code to use either `displot` (a figure-level function with similar flexibility) or `histplot` (an axes-level function for histograms).\n",
            "  warnings.warn(msg, FutureWarning)\n"
          ]
        },
        {
          "output_type": "display_data",
          "data": {
            "image/png": "[encoded data removed]",
            "text/plain": [
              "<Figure size 432x288 with 1 Axes>"
            ]
          },
          "metadata": {
            "needs_background": "light"
          }
        }
      ]
    },
    {
      "cell_type": "code",
      "metadata": {
        "colab": {
          "base_uri": "https://localhost:8080/"
        },
        "id": "KHhW2MZrMU65",
        "outputId": "ec7a4564-a837-4d2b-c115-a271114e9f67"
      },
      "source": [
        "# plot avocado count sells by year and type\n",
        "total_sells= avocado[[\"year\",\"type\",\"Total Volume\"]].groupby([\"year\",\"type\"]).sum()\n",
        "print(total_sells)"
      ],
      "execution_count": null,
      "outputs": [
        {
          "output_type": "stream",
          "name": "stdout",
          "text": [
            "                   Total Volume\n",
            "year type                      \n",
            "2015 conventional 4296599235.69\n",
            "     organic        88869426.35\n",
            "2016 conventional 4690249813.05\n",
            "     organic       130640078.78\n",
            "2017 conventional 4766165793.44\n",
            "     organic       168139905.83\n",
            "2018 conventional 1334206069.13\n",
            "     organic        48532271.13\n"
          ]
        }
      ]
    },
    {
      "cell_type": "code",
      "metadata": {
        "colab": {
          "base_uri": "https://localhost:8080/",
          "height": 331
        },
        "id": "Mi_myUBsXU0X",
        "outputId": "2d2c25b1-3b91-4c2b-d6cf-9dc33d0f3901"
      },
      "source": [
        "total_sells"
      ],
      "execution_count": null,
      "outputs": [
        {
          "output_type": "execute_result",
          "data": {
            "text/html": [
              "<div>\n",
              "<style scoped>\n",
              "    .dataframe tbody tr th:only-of-type {\n",
              "        vertical-align: middle;\n",
              "    }\n",
              "\n",
              "    .dataframe tbody tr th {\n",
              "        vertical-align: top;\n",
              "    }\n",
              "\n",
              "    .dataframe thead th {\n",
              "        text-align: right;\n",
              "    }\n",
              "</style>\n",
              "<table border=\"1\" class=\"dataframe\">\n",
              "  <thead>\n",
              "    <tr style=\"text-align: right;\">\n",
              "      <th></th>\n",
              "      <th></th>\n",
              "      <th>Total Volume</th>\n",
              "    </tr>\n",
              "    <tr>\n",
              "      <th>year</th>\n",
              "      <th>type</th>\n",
              "      <th></th>\n",
              "    </tr>\n",
              "  </thead>\n",
              "  <tbody>\n",
              "    <tr>\n",
              "      <th rowspan=\"2\" valign=\"top\">2015</th>\n",
              "      <th>conventional</th>\n",
              "      <td>4296599235.69</td>\n",
              "    </tr>\n",
              "    <tr>\n",
              "      <th>organic</th>\n",
              "      <td>88869426.35</td>\n",
              "    </tr>\n",
              "    <tr>\n",
              "      <th rowspan=\"2\" valign=\"top\">2016</th>\n",
              "      <th>conventional</th>\n",
              "      <td>4690249813.05</td>\n",
              "    </tr>\n",
              "    <tr>\n",
              "      <th>organic</th>\n",
              "      <td>130640078.78</td>\n",
              "    </tr>\n",
              "    <tr>\n",
              "      <th rowspan=\"2\" valign=\"top\">2017</th>\n",
              "      <th>conventional</th>\n",
              "      <td>4766165793.44</td>\n",
              "    </tr>\n",
              "    <tr>\n",
              "      <th>organic</th>\n",
              "      <td>168139905.83</td>\n",
              "    </tr>\n",
              "    <tr>\n",
              "      <th rowspan=\"2\" valign=\"top\">2018</th>\n",
              "      <th>conventional</th>\n",
              "      <td>1334206069.13</td>\n",
              "    </tr>\n",
              "    <tr>\n",
              "      <th>organic</th>\n",
              "      <td>48532271.13</td>\n",
              "    </tr>\n",
              "  </tbody>\n",
              "</table>\n",
              "</div>"
            ],
            "text/plain": [
              "                   Total Volume\n",
              "year type                      \n",
              "2015 conventional 4296599235.69\n",
              "     organic        88869426.35\n",
              "2016 conventional 4690249813.05\n",
              "     organic       130640078.78\n",
              "2017 conventional 4766165793.44\n",
              "     organic       168139905.83\n",
              "2018 conventional 1334206069.13\n",
              "     organic        48532271.13"
            ]
          },
          "metadata": {},
          "execution_count": 18
        }
      ]
    },
    {
      "cell_type": "code",
      "metadata": {
        "colab": {
          "base_uri": "https://localhost:8080/",
          "height": 402
        },
        "id": "6QQ3iB9yMXzr",
        "outputId": "258a8a17-07b0-4118-dc0f-7f5a48e164fb"
      },
      "source": [
        "total_sells.plot.bar()"
      ],
      "execution_count": null,
      "outputs": [
        {
          "output_type": "execute_result",
          "data": {
            "text/plain": [
              "<matplotlib.axes._subplots.AxesSubplot at 0x7f7dae2ff750>"
            ]
          },
          "metadata": {},
          "execution_count": 19
        },
        {
          "output_type": "display_data",
          "data": {
            "image/png": "[encoded data removed]",
            "text/plain": [
              "<Figure size 432x288 with 1 Axes>"
            ]
          },
          "metadata": {
            "needs_background": "light"
          }
        }
      ]
    },
    {
      "cell_type": "code",
      "metadata": {
        "colab": {
          "base_uri": "https://localhost:8080/",
          "height": 331
        },
        "id": "v3YsQ6alMZtd",
        "outputId": "c88b98ed-8f05-44f4-c43a-e29a06c32ddb"
      },
      "source": [
        "# group by multiple columns and perform multiple summary statistic operations\n",
        "avg_price = avocado.groupby([\"year\",\"type\"])[\"AveragePrice\"].agg([min,max,np.mean,np.median])\n",
        "avg_price"
      ],
      "execution_count": null,
      "outputs": [
        {
          "output_type": "execute_result",
          "data": {
            "text/html": [
              "<div>\n",
              "<style scoped>\n",
              "    .dataframe tbody tr th:only-of-type {\n",
              "        vertical-align: middle;\n",
              "    }\n",
              "\n",
              "    .dataframe tbody tr th {\n",
              "        vertical-align: top;\n",
              "    }\n",
              "\n",
              "    .dataframe thead th {\n",
              "        text-align: right;\n",
              "    }\n",
              "</style>\n",
              "<table border=\"1\" class=\"dataframe\">\n",
              "  <thead>\n",
              "    <tr style=\"text-align: right;\">\n",
              "      <th></th>\n",
              "      <th></th>\n",
              "      <th>min</th>\n",
              "      <th>max</th>\n",
              "      <th>mean</th>\n",
              "      <th>median</th>\n",
              "    </tr>\n",
              "    <tr>\n",
              "      <th>year</th>\n",
              "      <th>type</th>\n",
              "      <th></th>\n",
              "      <th></th>\n",
              "      <th></th>\n",
              "      <th></th>\n",
              "    </tr>\n",
              "  </thead>\n",
              "  <tbody>\n",
              "    <tr>\n",
              "      <th rowspan=\"2\" valign=\"top\">2015</th>\n",
              "      <th>conventional</th>\n",
              "      <td>0.49</td>\n",
              "      <td>1.59</td>\n",
              "      <td>1.08</td>\n",
              "      <td>1.08</td>\n",
              "    </tr>\n",
              "    <tr>\n",
              "      <th>organic</th>\n",
              "      <td>0.81</td>\n",
              "      <td>2.79</td>\n",
              "      <td>1.67</td>\n",
              "      <td>1.67</td>\n",
              "    </tr>\n",
              "    <tr>\n",
              "      <th rowspan=\"2\" valign=\"top\">2016</th>\n",
              "      <th>conventional</th>\n",
              "      <td>0.51</td>\n",
              "      <td>2.20</td>\n",
              "      <td>1.11</td>\n",
              "      <td>1.08</td>\n",
              "    </tr>\n",
              "    <tr>\n",
              "      <th>organic</th>\n",
              "      <td>0.58</td>\n",
              "      <td>3.25</td>\n",
              "      <td>1.57</td>\n",
              "      <td>1.53</td>\n",
              "    </tr>\n",
              "    <tr>\n",
              "      <th rowspan=\"2\" valign=\"top\">2017</th>\n",
              "      <th>conventional</th>\n",
              "      <td>0.46</td>\n",
              "      <td>2.22</td>\n",
              "      <td>1.29</td>\n",
              "      <td>1.30</td>\n",
              "    </tr>\n",
              "    <tr>\n",
              "      <th>organic</th>\n",
              "      <td>0.44</td>\n",
              "      <td>3.17</td>\n",
              "      <td>1.74</td>\n",
              "      <td>1.72</td>\n",
              "    </tr>\n",
              "    <tr>\n",
              "      <th rowspan=\"2\" valign=\"top\">2018</th>\n",
              "      <th>conventional</th>\n",
              "      <td>0.56</td>\n",
              "      <td>1.74</td>\n",
              "      <td>1.13</td>\n",
              "      <td>1.14</td>\n",
              "    </tr>\n",
              "    <tr>\n",
              "      <th>organic</th>\n",
              "      <td>1.01</td>\n",
              "      <td>2.30</td>\n",
              "      <td>1.57</td>\n",
              "      <td>1.55</td>\n",
              "    </tr>\n",
              "  </tbody>\n",
              "</table>\n",
              "</div>"
            ],
            "text/plain": [
              "                   min  max  mean  median\n",
              "year type                                \n",
              "2015 conventional 0.49 1.59  1.08    1.08\n",
              "     organic      0.81 2.79  1.67    1.67\n",
              "2016 conventional 0.51 2.20  1.11    1.08\n",
              "     organic      0.58 3.25  1.57    1.53\n",
              "2017 conventional 0.46 2.22  1.29    1.30\n",
              "     organic      0.44 3.17  1.74    1.72\n",
              "2018 conventional 0.56 1.74  1.13    1.14\n",
              "     organic      1.01 2.30  1.57    1.55"
            ]
          },
          "metadata": {},
          "execution_count": 20
        }
      ]
    },
    {
      "cell_type": "code",
      "metadata": {
        "colab": {
          "base_uri": "https://localhost:8080/",
          "height": 297
        },
        "id": "ADsAUAlRMfsH",
        "outputId": "13e03c69-2371-41f6-ad3d-0e97d2253b8b"
      },
      "source": [
        "# plot average price by type\n",
        "sns.boxplot(y=\"type\", x=\"AveragePrice\", data=avocado)"
      ],
      "execution_count": null,
      "outputs": [
        {
          "output_type": "execute_result",
          "data": {
            "text/plain": [
              "<matplotlib.axes._subplots.AxesSubplot at 0x7f7dae23f950>"
            ]
          },
          "metadata": {},
          "execution_count": 21
        },
        {
          "output_type": "display_data",
          "data": {
            "image/png": "[encoded data removed]",
            "text/plain": [
              "<Figure size 432x288 with 1 Axes>"
            ]
          },
          "metadata": {
            "needs_background": "light"
          }
        }
      ]
    },
    {
      "cell_type": "code",
      "metadata": {
        "colab": {
          "base_uri": "https://localhost:8080/",
          "height": 297
        },
        "id": "_Kk004sFMhz9",
        "outputId": "3fb1a1be-870b-4a0f-a12e-d198a47c7080"
      },
      "source": [
        "# plot average price by year\n",
        "avocado.year=avocado.year.apply(str)\n",
        "sns.boxenplot(x=\"year\", y=\"AveragePrice\", data=avocado)"
      ],
      "execution_count": null,
      "outputs": [
        {
          "output_type": "execute_result",
          "data": {
            "text/plain": [
              "<matplotlib.axes._subplots.AxesSubplot at 0x7f7dadfb1ed0>"
            ]
          },
          "metadata": {},
          "execution_count": 22
        },
        {
          "output_type": "display_data",
          "data": {
            "image/png": "[encoded data removed]",
            "text/plain": [
              "<Figure size 432x288 with 1 Axes>"
            ]
          },
          "metadata": {
            "needs_background": "light"
          }
        }
      ]
    },
    {
      "cell_type": "code",
      "metadata": {
        "colab": {
          "base_uri": "https://localhost:8080/",
          "height": 377
        },
        "id": "tJch3ooOMj-1",
        "outputId": "ad458c65-0be3-4271-f309-51439785b76d"
      },
      "source": [
        "# Extracting month from date column.\n",
        "avocado.Date = avocado.Date.apply(pd.to_datetime)\n",
        "avocado['Month']=avocado['Date'].apply(lambda x:x.month)\n",
        "# avocado.drop('Date',axis=1,inplace=True)\n",
        "avocado.Month = avocado.Month.map({1:'JAN',2:'FEB',3:'MARCH',4:'APRIL',5:'MAY',6:'JUNE',7:'JULY',8:'AUG',9:'SEPT',10:'OCT',11:'NOV',12:'DEC'})\n",
        "\n",
        "plt.figure(figsize=(9,5))\n",
        "sns.barplot(x=\"Month\", y=\"AveragePrice\", data=avocado)\n",
        "plt.title('Monthwise Average Price',fontdict={'fontsize':25})"
      ],
      "execution_count": null,
      "outputs": [
        {
          "output_type": "execute_result",
          "data": {
            "text/plain": [
              "Text(0.5, 1.0, 'Monthwise Average Price')"
            ]
          },
          "metadata": {},
          "execution_count": 23
        },
        {
          "output_type": "display_data",
          "data": {
            "image/png": "[encoded data removed]",
            "text/plain": [
              "<Figure size 648x360 with 1 Axes>"
            ]
          },
          "metadata": {
            "needs_background": "light"
          }
        }
      ]
    },
    {
      "cell_type": "code",
      "metadata": {
        "colab": {
          "base_uri": "https://localhost:8080/",
          "height": 377
        },
        "id": "agoIBUDbMoDo",
        "outputId": "04fa75fd-cc21-46e3-ae67-2924a1199850"
      },
      "source": [
        "plt.figure(figsize=(9,5))\n",
        "sns.barplot(x=\"Month\", y=\"Total Volume\", data=avocado, estimator=sum)\n",
        "plt.title('Monthwise Distribution of Sales',fontdict={'fontsize':25})"
      ],
      "execution_count": null,
      "outputs": [
        {
          "output_type": "execute_result",
          "data": {
            "text/plain": [
              "Text(0.5, 1.0, 'Monthwise Distribution of Sales')"
            ]
          },
          "metadata": {},
          "execution_count": 24
        },
        {
          "output_type": "display_data",
          "data": {
            "image/png": "[encoded data removed]",
            "text/plain": [
              "<Figure size 648x360 with 1 Axes>"
            ]
          },
          "metadata": {
            "needs_background": "light"
          }
        }
      ]
    },
    {
      "cell_type": "code",
      "metadata": {
        "colab": {
          "base_uri": "https://localhost:8080/"
        },
        "id": "Pg2P-dcvMshE",
        "outputId": "8fdf693d-ef9e-43a5-a0d9-2f985f656ab6"
      },
      "source": [
        "#data drop unnecessary columns\n",
        "avocado.drop(labels=['Unnamed: 0','Date', 'Total Bags','total','diff'], axis=1, inplace=True)\n",
        "#list of numeric columns\n",
        "numeric_cols = list(avocado.select_dtypes(include=[np.number]).columns.values)\n",
        "numeric_cols.remove('AveragePrice')\n",
        "# convert categorical to one-hot\n",
        "avocado['type']= avocado['type'].map({'conventional':0,'organic':1})\n",
        "avocado=avocado[avocado.region.isin([\"California\", \"GreatLakes\", \"Midsouth\", \"Northeast\", \"Plains\", \"Southeast\", \"SouthCentral\", \"West\"])]\n",
        "\n",
        "avocado = pd.get_dummies(avocado,drop_first=True)\n",
        "\n",
        "X = avocado.drop('AveragePrice', axis=1)\n",
        "y = avocado['AveragePrice']\n",
        "\n",
        "# Splitting data into training and test set\n",
        "X_train, X_test, y_train, y_test = train_test_split(X,y,test_size=0.30, random_state=7)\n",
        "\n",
        "# convert to X and y and scaling\n",
        "scaler=StandardScaler()\n",
        "scaler.fit(X_train[numeric_cols])\n",
        "X_train[numeric_cols] = scaler.transform(X_train[numeric_cols])\n",
        "X_test[numeric_cols] = scaler.transform(X_test[numeric_cols])\n",
        "\n",
        "\n",
        "# Splitting train set into training and validation sets.\n",
        "X_train, X_val, y_train, y_val = train_test_split(X_train,y_train,test_size=0.20, random_state=42)"
      ],
      "execution_count": null,
      "outputs": [
        {
          "output_type": "stream",
          "name": "stderr",
          "text": [
            "/usr/local/lib/python3.7/dist-packages/ipykernel_launcher.py:21: SettingWithCopyWarning: \n",
            "A value is trying to be set on a copy of a slice from a DataFrame.\n",
            "Try using .loc[row_indexer,col_indexer] = value instead\n",
            "\n",
            "See the caveats in the documentation: https://pandas.pydata.org/pandas-docs/stable/user_guide/indexing.html#returning-a-view-versus-a-copy\n",
            "/usr/local/lib/python3.7/dist-packages/pandas/core/indexing.py:1734: SettingWithCopyWarning: \n",
            "A value is trying to be set on a copy of a slice from a DataFrame.\n",
            "Try using .loc[row_indexer,col_indexer] = value instead\n",
            "\n",
            "See the caveats in the documentation: https://pandas.pydata.org/pandas-docs/stable/user_guide/indexing.html#returning-a-view-versus-a-copy\n",
            "  isetter(loc, value[:, i].tolist())\n",
            "/usr/local/lib/python3.7/dist-packages/ipykernel_launcher.py:22: SettingWithCopyWarning: \n",
            "A value is trying to be set on a copy of a slice from a DataFrame.\n",
            "Try using .loc[row_indexer,col_indexer] = value instead\n",
            "\n",
            "See the caveats in the documentation: https://pandas.pydata.org/pandas-docs/stable/user_guide/indexing.html#returning-a-view-versus-a-copy\n",
            "/usr/local/lib/python3.7/dist-packages/pandas/core/indexing.py:1734: SettingWithCopyWarning: \n",
            "A value is trying to be set on a copy of a slice from a DataFrame.\n",
            "Try using .loc[row_indexer,col_indexer] = value instead\n",
            "\n",
            "See the caveats in the documentation: https://pandas.pydata.org/pandas-docs/stable/user_guide/indexing.html#returning-a-view-versus-a-copy\n",
            "  isetter(loc, value[:, i].tolist())\n"
          ]
        }
      ]
    },
    {
      "cell_type": "code",
      "metadata": {
        "colab": {
          "base_uri": "https://localhost:8080/",
          "height": 1000
        },
        "id": "MUeFHhC852wu",
        "outputId": "2f1bb6ed-9663-4e28-a482-510fd4c89ba1"
      },
      "source": [
        "class myModel:\n",
        "    def __init__(self, epochs = 150, learning_rate = 0.01):\n",
        "        self.W = []\n",
        "        self.epochs = epochs\n",
        "        self.learning_rate = learning_rate\n",
        "        self.loss = []\n",
        "        self.val_loss = []\n",
        "        self.num_layers = 0\n",
        "        self.activation = []\n",
        "        self.layers_shape = []\n",
        "        self.optimizer = tf.optimizers.Adam( learning_rate )\n",
        "\n",
        "    def dense(self, inputs , weights, activation = 'Relu'):\n",
        "        if activation == 'Relu':\n",
        "            x = tf.nn.relu( tf.matmul( inputs , weights ))\n",
        "        elif activation == 'Sigmoid':\n",
        "            x = tf.math.sigmoid( tf.matmul( inputs , weights ))\n",
        "        else: # default activation is Relu as well\n",
        "            x = tf.matmul( inputs , weights )\n",
        "        return x\n",
        "\n",
        "    def __call__(self, x):\n",
        "#        x = tf.cast( x , dtype=tf.float32 )\n",
        "        for i in range(0,self.num_layers-1):\n",
        "            x = self.dense(x, self.W[i], self.activation[i+1])\n",
        "        return x\n",
        "\n",
        "    def compute_loss(self, predicted_y, target_y):\n",
        "        return tf.reduce_mean( (predicted_y - target_y)**2 )\n",
        "\n",
        "    def score(self, x, y):\n",
        "        y_pred = self(x)\n",
        "        return y_pred, self.compute_loss(y_pred, y)\n",
        "\n",
        "    def add(self, shape, activation = 'Relu'):\n",
        "        self.layers_shape.append(shape)\n",
        "\n",
        "        if self.num_layers == 0:\n",
        "            self.activation.append('NA')\n",
        "            self.num_layers += 1\n",
        "\n",
        "        else:\n",
        "            self.activation.append(activation)\n",
        "            W = tf.random.uniform(shape=[self.layers_shape[self.num_layers-1],shape],minval=-1., maxval=1 )\n",
        "            W = tf.cast( W , dtype=tf.float64 )\n",
        "            W = tf.Variable(W)\n",
        "            self.W.append(W)\n",
        "            self.num_layers += 1\n",
        "\n",
        "    def train(self, x, y, x_val, y_val):\n",
        "        x = tf.Variable(x)\n",
        "        for epoch in range(self.epochs):\n",
        "            y_pred_val = self(x_val)\n",
        "            val_loss=tf.reduce_mean((y_pred_val-y_val)**2)\n",
        "            with tf.GradientTape(persistent=True) as tape:\n",
        "                y_pred = self(x)\n",
        "                tape.watch(self.W)\n",
        "                loss=tf.reduce_mean((y_pred-y)**2)\n",
        "            grads = tape.gradient(loss,[self.W[i] for i in range(len(self.W))])\n",
        "            self.optimizer.apply_gradients(zip(grads,  [self.W[i] for i in range(len(self.W))]))\n",
        "\n",
        "            self.loss.append(loss)\n",
        "            self.val_loss.append(val_loss)\n",
        "    def print_model_results(self):\n",
        "        plt.figure()\n",
        "        plt.plot(self.loss)\n",
        "        plt.plot(self.val_loss)\n",
        "        plt.legend(labels=['Loss',\"Val_loss\"])\n",
        "        plt.show()\n",
        "\n",
        "model = myModel()\n",
        "model.add(29, 'Relu')\n",
        "model.add(32, 'Relu')\n",
        "model.add(16, 'Relu')\n",
        "model.add(1, \"None\")\n",
        "\n",
        "model.train(X_train, y_train, X_val, y_val)\n",
        "y_pred, score = model.score(X_train,y_train)\n",
        "print(\"model train score = \",model.score(X_train,y_train))\n",
        "print(\"model test score = \",model.score(X_test,y_test))\n",
        "\n",
        "model.print_model_results()"
      ],
      "execution_count": null,
      "outputs": [
        {
          "output_type": "stream",
          "name": "stdout",
          "text": [
            "model train score =  (<tf.Tensor: shape=(1513, 1), dtype=float64, numpy=\n",
            "array([[1.4031254 ],\n",
            "       [1.63852776],\n",
            "       [1.29407863],\n",
            "       ...,\n",
            "       [1.28844411],\n",
            "       [1.67446167],\n",
            "       [0.99845873]])>, <tf.Tensor: shape=(), dtype=float64, numpy=0.22539282280751824>)\n",
            "model test score =  (<tf.Tensor: shape=(812, 1), dtype=float64, numpy=\n",
            "array([[ 1.32059674e+00],\n",
            "       [ 1.36596496e+00],\n",
            "       [ 1.22343995e+00],\n",
            "       [ 1.11874882e+00],\n",
            "       [ 1.30420687e+00],\n",
            "       [ 1.21698935e+00],\n",
            "       [ 1.42913126e+00],\n",
            "       [ 9.24798535e-01],\n",
            "       [ 1.33851820e+00],\n",
            "       [ 1.00059611e+00],\n",
            "       [ 1.32854069e+00],\n",
            "       [ 1.73334111e+00],\n",
            "       [ 2.12677460e+00],\n",
            "       [ 1.77070027e+00],\n",
            "       [ 1.10316656e+00],\n",
            "       [ 1.00010419e+00],\n",
            "       [ 1.58071419e+00],\n",
            "       [ 1.56389689e+00],\n",
            "       [ 1.68886401e+00],\n",
            "       [ 1.94104326e+00],\n",
            "       [ 2.86924000e-01],\n",
            "       [ 9.19137580e-01],\n",
            "       [ 1.32445295e+00],\n",
            "       [ 6.91632806e-01],\n",
            "       [ 1.46479556e+00],\n",
            "       [ 1.09270289e+00],\n",
            "       [ 8.79222117e-01],\n",
            "       [ 1.35298709e+00],\n",
            "       [ 1.66005047e+00],\n",
            "       [ 1.20026068e+00],\n",
            "       [ 1.82012660e+00],\n",
            "       [ 1.20649557e+00],\n",
            "       [ 1.36622078e+00],\n",
            "       [ 1.44590035e+00],\n",
            "       [ 1.48177496e+00],\n",
            "       [ 1.54139122e+00],\n",
            "       [ 1.04151482e+00],\n",
            "       [ 1.27255044e+00],\n",
            "       [ 1.81138060e+00],\n",
            "       [ 2.77780249e+00],\n",
            "       [ 1.59927654e+00],\n",
            "       [ 1.57317534e+00],\n",
            "       [ 1.33938269e+00],\n",
            "       [ 1.46902937e+00],\n",
            "       [ 1.81254358e+00],\n",
            "       [ 1.42554567e+00],\n",
            "       [ 1.48629478e+00],\n",
            "       [ 1.52837530e+00],\n",
            "       [ 1.36132225e+00],\n",
            "       [ 1.42726347e+00],\n",
            "       [ 1.61167890e+00],\n",
            "       [ 1.20412850e+00],\n",
            "       [ 9.65495893e-01],\n",
            "       [ 1.09932006e+00],\n",
            "       [ 1.67259745e+00],\n",
            "       [ 1.69148808e+00],\n",
            "       [ 1.20100253e+00],\n",
            "       [ 2.13044063e+00],\n",
            "       [ 1.14998667e+00],\n",
            "       [ 1.83738234e+00],\n",
            "       [ 1.66537979e+00],\n",
            "       [ 1.32310368e+00],\n",
            "       [ 1.48409241e+00],\n",
            "       [ 1.23807263e+00],\n",
            "       [ 1.94771851e+00],\n",
            "       [ 9.20806314e-01],\n",
            "       [ 1.03270831e+00],\n",
            "       [ 1.28233917e+00],\n",
            "       [ 1.12715474e+00],\n",
            "       [ 9.31635513e-01],\n",
            "       [ 7.40926433e-01],\n",
            "       [ 1.30428424e+00],\n",
            "       [ 2.05564897e+00],\n",
            "       [ 9.99110471e-01],\n",
            "       [ 1.27448439e+00],\n",
            "       [ 2.26384149e+00],\n",
            "       [ 1.44857950e+00],\n",
            "       [ 1.03264928e+00],\n",
            "       [ 1.06480560e+00],\n",
            "       [ 1.39019121e+00],\n",
            "       [ 2.47739770e+00],\n",
            "       [ 1.73177260e+00],\n",
            "       [ 1.46398234e+00],\n",
            "       [ 1.34628997e+00],\n",
            "       [ 2.67147654e+00],\n",
            "       [ 1.38806426e+00],\n",
            "       [ 6.68830697e-01],\n",
            "       [ 1.71645466e+00],\n",
            "       [ 6.22996136e-01],\n",
            "       [ 1.44363871e+00],\n",
            "       [ 1.62099703e+00],\n",
            "       [ 1.25918387e+00],\n",
            "       [ 1.67756515e+00],\n",
            "       [ 9.42442864e-01],\n",
            "       [ 5.38284043e-01],\n",
            "       [ 1.61061103e+00],\n",
            "       [ 1.60513450e+00],\n",
            "       [ 1.26185984e+00],\n",
            "       [ 1.68315376e+00],\n",
            "       [ 1.26764886e+00],\n",
            "       [ 1.92873638e+00],\n",
            "       [ 1.16011929e+00],\n",
            "       [ 1.29771720e+00],\n",
            "       [ 1.46031530e+00],\n",
            "       [ 8.05863478e-01],\n",
            "       [ 1.75244110e+00],\n",
            "       [ 8.12000862e-01],\n",
            "       [ 5.81160620e-01],\n",
            "       [ 1.74799474e+00],\n",
            "       [ 1.60902752e+00],\n",
            "       [ 1.41261728e+00],\n",
            "       [ 1.58939255e+00],\n",
            "       [ 1.41311494e+00],\n",
            "       [ 8.67591090e-01],\n",
            "       [ 1.45095461e+00],\n",
            "       [ 1.29065250e+00],\n",
            "       [ 7.58875387e-01],\n",
            "       [ 1.15512160e+00],\n",
            "       [ 1.09950314e+00],\n",
            "       [ 1.29196266e+00],\n",
            "       [ 1.36894869e+00],\n",
            "       [ 1.83840305e+00],\n",
            "       [ 1.80280069e+00],\n",
            "       [ 8.66239905e-01],\n",
            "       [ 1.73301854e+00],\n",
            "       [ 1.28025285e+00],\n",
            "       [ 1.42061816e+00],\n",
            "       [ 1.46810619e+00],\n",
            "       [ 1.26476848e+00],\n",
            "       [ 1.39573334e+00],\n",
            "       [ 1.38725032e+00],\n",
            "       [ 1.33943838e+00],\n",
            "       [ 7.04591692e-01],\n",
            "       [ 1.25815123e+00],\n",
            "       [ 9.59745232e-01],\n",
            "       [ 7.58060475e-01],\n",
            "       [ 1.35640588e+00],\n",
            "       [ 1.05912239e+00],\n",
            "       [ 7.04713652e-01],\n",
            "       [ 1.32048496e+00],\n",
            "       [ 2.18031046e+00],\n",
            "       [ 1.67911035e+00],\n",
            "       [ 9.77476699e-01],\n",
            "       [ 1.64787079e+00],\n",
            "       [ 2.15520302e+00],\n",
            "       [ 1.23494712e+00],\n",
            "       [ 1.08537809e+00],\n",
            "       [ 1.52212371e+00],\n",
            "       [ 1.03527703e+00],\n",
            "       [ 1.63086018e+00],\n",
            "       [ 1.85750504e+00],\n",
            "       [ 1.28139027e+00],\n",
            "       [ 1.91253723e+00],\n",
            "       [ 1.52195055e+00],\n",
            "       [ 1.37649552e+00],\n",
            "       [ 1.40836818e+00],\n",
            "       [ 1.05259273e+00],\n",
            "       [ 8.36525597e-01],\n",
            "       [ 1.40725144e+00],\n",
            "       [ 8.06885590e-01],\n",
            "       [ 1.19139449e+00],\n",
            "       [ 1.43351550e+00],\n",
            "       [ 1.64534899e+00],\n",
            "       [ 1.49915384e+00],\n",
            "       [ 1.11323032e+00],\n",
            "       [ 1.67102265e+00],\n",
            "       [ 1.56900665e+00],\n",
            "       [ 1.32961440e+00],\n",
            "       [ 1.89147609e+00],\n",
            "       [ 1.57975861e+00],\n",
            "       [ 1.92017423e+00],\n",
            "       [ 9.01544562e-01],\n",
            "       [ 1.25687340e+00],\n",
            "       [ 1.80539507e+00],\n",
            "       [ 1.52348852e+00],\n",
            "       [ 1.37922403e+00],\n",
            "       [ 1.21362236e+00],\n",
            "       [ 1.02513869e+00],\n",
            "       [ 1.18419908e+00],\n",
            "       [ 8.31506496e-01],\n",
            "       [ 1.45959879e+00],\n",
            "       [ 1.58619888e+00],\n",
            "       [ 1.17318647e+00],\n",
            "       [ 1.19824822e+00],\n",
            "       [ 1.33357929e+00],\n",
            "       [ 1.71773432e+00],\n",
            "       [ 1.13120595e+00],\n",
            "       [ 1.53913293e+00],\n",
            "       [ 1.71658805e+00],\n",
            "       [ 1.61451485e+00],\n",
            "       [ 1.37139411e+00],\n",
            "       [ 1.10288760e+00],\n",
            "       [ 2.06649502e+00],\n",
            "       [ 5.77470532e-01],\n",
            "       [ 9.60038725e-01],\n",
            "       [ 1.34553347e+00],\n",
            "       [ 1.08198372e+00],\n",
            "       [ 1.25047019e+00],\n",
            "       [ 1.41440626e+00],\n",
            "       [ 5.76487892e-01],\n",
            "       [ 1.29629810e+00],\n",
            "       [ 9.91795600e-01],\n",
            "       [ 1.58025022e+00],\n",
            "       [ 1.49666488e+00],\n",
            "       [ 1.43908259e+00],\n",
            "       [ 1.16626529e+00],\n",
            "       [ 1.13616347e+00],\n",
            "       [ 1.33879353e+00],\n",
            "       [ 1.13104879e+00],\n",
            "       [ 1.64730190e+00],\n",
            "       [ 1.64344508e+00],\n",
            "       [ 1.44332759e+00],\n",
            "       [ 1.45613870e+00],\n",
            "       [ 1.46420975e+00],\n",
            "       [ 1.01958786e+00],\n",
            "       [ 2.09087650e+00],\n",
            "       [ 1.20099959e+00],\n",
            "       [ 1.34756493e+00],\n",
            "       [ 1.30043324e+00],\n",
            "       [ 1.36122066e+00],\n",
            "       [ 1.43637146e+00],\n",
            "       [ 1.78102274e+00],\n",
            "       [ 8.53915031e-01],\n",
            "       [ 1.57175284e+00],\n",
            "       [ 1.25811071e+00],\n",
            "       [ 9.91779122e-01],\n",
            "       [ 1.73801274e+00],\n",
            "       [ 8.06513608e-01],\n",
            "       [ 1.27547785e+00],\n",
            "       [ 1.26446102e+00],\n",
            "       [ 1.45842828e+00],\n",
            "       [ 1.53808553e+00],\n",
            "       [ 9.82963170e-01],\n",
            "       [ 1.80631820e+00],\n",
            "       [ 1.27550704e+00],\n",
            "       [ 1.30530264e+00],\n",
            "       [ 1.55813870e+00],\n",
            "       [ 1.54603680e+00],\n",
            "       [ 1.63923024e+00],\n",
            "       [ 1.53405835e+00],\n",
            "       [ 1.39228646e+00],\n",
            "       [ 1.43688820e+00],\n",
            "       [ 1.18511600e+00],\n",
            "       [ 1.58208319e+00],\n",
            "       [ 1.35890543e+00],\n",
            "       [ 1.77731819e-03],\n",
            "       [ 1.54195215e+00],\n",
            "       [ 1.32176442e+00],\n",
            "       [ 1.54498469e+00],\n",
            "       [ 1.53236183e+00],\n",
            "       [ 1.39473997e+00],\n",
            "       [ 1.51381218e+00],\n",
            "       [ 1.56297152e+00],\n",
            "       [ 1.22084423e+00],\n",
            "       [ 4.92059960e-01],\n",
            "       [ 9.64062250e-01],\n",
            "       [ 1.58454478e+00],\n",
            "       [ 1.48873755e+00],\n",
            "       [ 1.36512583e+00],\n",
            "       [ 1.42235645e+00],\n",
            "       [ 1.62673680e+00],\n",
            "       [ 1.42050180e+00],\n",
            "       [ 1.24457344e+00],\n",
            "       [ 1.58938834e+00],\n",
            "       [ 1.16054084e+00],\n",
            "       [ 1.41261808e+00],\n",
            "       [ 1.64189625e+00],\n",
            "       [ 1.14835216e+00],\n",
            "       [ 1.57414079e+00],\n",
            "       [ 1.31349126e+00],\n",
            "       [ 1.73135092e+00],\n",
            "       [ 1.56254462e+00],\n",
            "       [ 1.46482517e+00],\n",
            "       [ 1.05867810e+00],\n",
            "       [ 1.55131712e+00],\n",
            "       [ 1.16359071e+00],\n",
            "       [ 1.08799186e+00],\n",
            "       [ 8.71859176e-01],\n",
            "       [ 1.56493410e+00],\n",
            "       [ 1.54539302e+00],\n",
            "       [ 1.26339273e+00],\n",
            "       [ 1.30997484e+00],\n",
            "       [ 1.34839417e+00],\n",
            "       [ 1.57519117e+00],\n",
            "       [ 1.21168180e+00],\n",
            "       [ 1.91630196e+00],\n",
            "       [ 2.05059058e+00],\n",
            "       [ 1.20817413e+00],\n",
            "       [ 1.02524700e+00],\n",
            "       [ 1.24097802e+00],\n",
            "       [ 1.31630623e+00],\n",
            "       [ 1.01422840e+00],\n",
            "       [ 9.31684339e-01],\n",
            "       [ 1.27312277e+00],\n",
            "       [ 1.95004521e+00],\n",
            "       [ 1.32654518e+00],\n",
            "       [ 1.53353750e+00],\n",
            "       [ 1.84942121e+00],\n",
            "       [ 6.33796600e-01],\n",
            "       [ 1.26717296e+00],\n",
            "       [ 1.22132650e+00],\n",
            "       [ 1.61306399e+00],\n",
            "       [ 1.32447044e+00],\n",
            "       [ 1.21038913e+00],\n",
            "       [ 4.29828990e-02],\n",
            "       [-4.36824545e-03],\n",
            "       [ 1.05505388e+00],\n",
            "       [ 1.13356562e+00],\n",
            "       [ 4.99339242e-01],\n",
            "       [ 1.32815418e+00],\n",
            "       [ 1.39365157e+00],\n",
            "       [ 1.61158345e+00],\n",
            "       [ 1.92880818e+00],\n",
            "       [ 9.23216574e-01],\n",
            "       [ 1.00362653e+00],\n",
            "       [ 1.30637155e+00],\n",
            "       [ 1.50490387e+00],\n",
            "       [ 1.32586156e+00],\n",
            "       [ 1.21652717e+00],\n",
            "       [ 1.55122342e+00],\n",
            "       [ 1.63948532e+00],\n",
            "       [ 1.57484284e+00],\n",
            "       [ 1.60049246e+00],\n",
            "       [ 1.03971037e+00],\n",
            "       [ 1.54263464e+00],\n",
            "       [ 1.20413280e+00],\n",
            "       [ 7.25011632e-01],\n",
            "       [ 1.44038740e+00],\n",
            "       [ 1.30471109e+00],\n",
            "       [ 1.42855880e+00],\n",
            "       [ 1.30759611e+00],\n",
            "       [ 1.29793830e+00],\n",
            "       [ 8.97534267e-01],\n",
            "       [ 1.17306235e+00],\n",
            "       [ 6.66480875e-01],\n",
            "       [ 1.52358265e+00],\n",
            "       [ 1.04213211e+00],\n",
            "       [ 1.16335796e+00],\n",
            "       [ 1.45689148e+00],\n",
            "       [ 1.50715289e+00],\n",
            "       [ 1.91072902e+00],\n",
            "       [ 6.23507704e-01],\n",
            "       [ 1.18364769e+00],\n",
            "       [ 9.51571431e-01],\n",
            "       [ 1.39024121e+00],\n",
            "       [ 1.54206937e+00],\n",
            "       [ 1.62168943e+00],\n",
            "       [ 1.62550644e+00],\n",
            "       [ 1.44732744e+00],\n",
            "       [ 9.74199813e-01],\n",
            "       [ 1.53448650e+00],\n",
            "       [ 1.16417699e+00],\n",
            "       [ 1.67065637e+00],\n",
            "       [ 1.13433383e+00],\n",
            "       [ 1.46394320e+00],\n",
            "       [ 1.49877829e+00],\n",
            "       [ 1.28939965e+00],\n",
            "       [ 1.54474379e+00],\n",
            "       [ 1.17927015e+00],\n",
            "       [ 1.72103699e+00],\n",
            "       [ 1.40749237e+00],\n",
            "       [ 1.91085187e+00],\n",
            "       [ 1.85661681e+00],\n",
            "       [ 7.29615727e-01],\n",
            "       [ 1.13570909e+00],\n",
            "       [ 9.44547156e-01],\n",
            "       [ 1.34919386e+00],\n",
            "       [ 1.67354109e+00],\n",
            "       [ 6.19523429e-01],\n",
            "       [ 1.25054387e+00],\n",
            "       [ 1.23213164e+00],\n",
            "       [ 1.34322722e+00],\n",
            "       [ 1.34222773e+00],\n",
            "       [ 1.41712638e+00],\n",
            "       [ 1.00701156e+00],\n",
            "       [ 1.16173397e+00],\n",
            "       [ 9.27442430e-01],\n",
            "       [ 1.28983695e+00],\n",
            "       [ 5.79690601e-01],\n",
            "       [ 1.20414797e+00],\n",
            "       [ 1.51022757e+00],\n",
            "       [ 5.61102184e-01],\n",
            "       [ 9.17866267e-01],\n",
            "       [ 1.42518218e+00],\n",
            "       [ 1.03993984e+00],\n",
            "       [ 1.73618326e+00],\n",
            "       [ 1.81868185e+00],\n",
            "       [ 1.31339574e+00],\n",
            "       [ 1.53204640e+00],\n",
            "       [ 1.18002781e+00],\n",
            "       [ 1.16919017e+00],\n",
            "       [ 1.24115671e+00],\n",
            "       [ 6.77157809e-01],\n",
            "       [ 1.37854947e+00],\n",
            "       [ 1.16721897e+00],\n",
            "       [ 9.77300999e-01],\n",
            "       [ 1.35162638e+00],\n",
            "       [ 8.50200853e-01],\n",
            "       [ 1.26105774e+00],\n",
            "       [ 1.52728440e+00],\n",
            "       [ 1.07818819e+00],\n",
            "       [ 9.80561487e-01],\n",
            "       [ 1.40221446e+00],\n",
            "       [ 8.02871415e-01],\n",
            "       [ 1.29190989e+00],\n",
            "       [ 1.25050549e+00],\n",
            "       [ 9.20708774e-01],\n",
            "       [ 1.23993613e+00],\n",
            "       [ 1.57916122e+00],\n",
            "       [ 1.75326736e+00],\n",
            "       [ 1.60531544e+00],\n",
            "       [ 1.37068866e+00],\n",
            "       [ 1.37436662e+00],\n",
            "       [ 9.70679104e-01],\n",
            "       [ 1.72974467e+00],\n",
            "       [ 1.65938095e+00],\n",
            "       [ 1.01607931e+00],\n",
            "       [ 1.31863550e+00],\n",
            "       [ 2.65473464e+00],\n",
            "       [ 1.49955197e+00],\n",
            "       [ 1.60246718e+00],\n",
            "       [ 9.82572787e-01],\n",
            "       [ 1.62267799e+00],\n",
            "       [ 1.37750127e+00],\n",
            "       [ 5.81205275e-01],\n",
            "       [ 1.06390533e+00],\n",
            "       [ 3.33502501e-01],\n",
            "       [ 1.64496677e+00],\n",
            "       [ 1.19483980e+00],\n",
            "       [ 9.59228209e-01],\n",
            "       [ 1.37855886e+00],\n",
            "       [ 1.34620253e+00],\n",
            "       [ 7.47743190e-01],\n",
            "       [ 4.62205036e-01],\n",
            "       [ 1.24087530e+00],\n",
            "       [ 1.36247399e+00],\n",
            "       [ 6.45127352e-01],\n",
            "       [ 1.25076614e+00],\n",
            "       [ 1.45667609e+00],\n",
            "       [ 1.09572399e+00],\n",
            "       [ 9.65960380e-01],\n",
            "       [ 1.57769456e+00],\n",
            "       [ 6.82429826e-01],\n",
            "       [ 1.19558160e+00],\n",
            "       [ 1.95547205e+00],\n",
            "       [ 1.53749784e+00],\n",
            "       [ 7.60476214e-01],\n",
            "       [ 1.53343260e+00],\n",
            "       [ 1.55248177e+00],\n",
            "       [ 7.78750678e-01],\n",
            "       [ 1.41194478e+00],\n",
            "       [ 1.55193254e+00],\n",
            "       [ 1.79350744e+00],\n",
            "       [ 1.87059565e+00],\n",
            "       [ 1.47768542e+00],\n",
            "       [ 1.06453283e+00],\n",
            "       [ 1.18518339e+00],\n",
            "       [ 1.17748588e+00],\n",
            "       [ 8.80537028e-01],\n",
            "       [ 7.61136601e-01],\n",
            "       [ 1.18539688e+00],\n",
            "       [ 1.33836611e+00],\n",
            "       [ 1.02904089e+00],\n",
            "       [ 1.59033391e+00],\n",
            "       [ 1.28111307e+00],\n",
            "       [ 1.14078937e+00],\n",
            "       [ 1.46735756e+00],\n",
            "       [ 1.32599773e+00],\n",
            "       [ 1.31423667e+00],\n",
            "       [ 1.18726361e+00],\n",
            "       [ 1.67872964e+00],\n",
            "       [ 1.09795681e+00],\n",
            "       [ 1.57621219e+00],\n",
            "       [ 1.39939003e+00],\n",
            "       [ 8.57407439e-01],\n",
            "       [ 1.15492263e+00],\n",
            "       [ 1.80952018e+00],\n",
            "       [ 1.02971771e+00],\n",
            "       [ 1.56790933e+00],\n",
            "       [ 1.24121868e+00],\n",
            "       [ 1.37433121e+00],\n",
            "       [ 1.48715292e+00],\n",
            "       [ 2.59337340e+00],\n",
            "       [ 1.34940471e+00],\n",
            "       [ 1.18465466e+00],\n",
            "       [ 1.36835405e+00],\n",
            "       [ 1.05875335e+00],\n",
            "       [ 1.51796996e+00],\n",
            "       [ 1.00606258e+00],\n",
            "       [ 1.06144022e+00],\n",
            "       [ 1.36644753e+00],\n",
            "       [ 1.22902688e+00],\n",
            "       [ 1.36116464e+00],\n",
            "       [ 1.02453680e+00],\n",
            "       [ 1.06140708e+00],\n",
            "       [ 1.13947041e+00],\n",
            "       [ 1.38790735e+00],\n",
            "       [ 1.17262796e+00],\n",
            "       [ 1.27445926e+00],\n",
            "       [ 1.49171563e+00],\n",
            "       [ 1.11393429e+00],\n",
            "       [ 2.01333547e+00],\n",
            "       [ 9.22743550e-01],\n",
            "       [ 8.72943529e-01],\n",
            "       [ 1.11242374e+00],\n",
            "       [ 2.04194202e+00],\n",
            "       [ 1.28324368e+00],\n",
            "       [ 1.71330271e+00],\n",
            "       [ 1.57508559e+00],\n",
            "       [ 1.49446716e+00],\n",
            "       [ 1.37767880e+00],\n",
            "       [ 1.33122290e+00],\n",
            "       [ 7.71038559e-01],\n",
            "       [ 1.82960360e+00],\n",
            "       [ 1.31803436e+00],\n",
            "       [ 1.60437788e+00],\n",
            "       [ 2.10213053e+00],\n",
            "       [ 9.47084533e-01],\n",
            "       [ 1.19320532e+00],\n",
            "       [ 8.57895804e-01],\n",
            "       [ 1.15201383e+00],\n",
            "       [ 1.06609041e+00],\n",
            "       [ 9.10614270e-01],\n",
            "       [ 9.70989375e-01],\n",
            "       [ 1.30491312e+00],\n",
            "       [ 1.52335931e+00],\n",
            "       [ 1.21709511e+00],\n",
            "       [ 1.41392283e+00],\n",
            "       [ 9.42059074e-01],\n",
            "       [ 1.26940346e+00],\n",
            "       [ 1.15405976e+00],\n",
            "       [ 9.74588488e-01],\n",
            "       [ 1.22968438e+00],\n",
            "       [ 1.52509806e+00],\n",
            "       [ 1.20384885e+00],\n",
            "       [ 1.60054171e+00],\n",
            "       [ 1.82141793e+00],\n",
            "       [ 1.78736290e+00],\n",
            "       [ 1.19790175e+00],\n",
            "       [ 1.09037384e+00],\n",
            "       [ 9.12153315e-01],\n",
            "       [ 1.22981500e+00],\n",
            "       [ 1.48201436e+00],\n",
            "       [ 1.94118725e+00],\n",
            "       [ 8.92839259e-01],\n",
            "       [ 1.09686672e+00],\n",
            "       [ 1.85928144e+00],\n",
            "       [ 1.02721092e+00],\n",
            "       [ 1.54659327e+00],\n",
            "       [ 1.11285528e+00],\n",
            "       [ 8.47401998e-01],\n",
            "       [ 1.01589649e+00],\n",
            "       [ 9.83569565e-01],\n",
            "       [ 1.72656883e+00],\n",
            "       [ 1.55222764e+00],\n",
            "       [ 1.02702543e+00],\n",
            "       [ 2.06729827e+00],\n",
            "       [ 9.21920551e-01],\n",
            "       [ 1.07887892e+00],\n",
            "       [ 2.10460863e+00],\n",
            "       [ 1.52831834e+00],\n",
            "       [ 2.08173110e+00],\n",
            "       [ 1.00519637e+00],\n",
            "       [ 1.08358032e+00],\n",
            "       [ 1.25183429e+00],\n",
            "       [ 1.57603362e+00],\n",
            "       [ 1.80328370e+00],\n",
            "       [ 1.10949685e+00],\n",
            "       [ 1.45624124e+00],\n",
            "       [ 1.25200530e+00],\n",
            "       [ 4.19624401e-01],\n",
            "       [ 1.41797199e+00],\n",
            "       [ 1.46840792e+00],\n",
            "       [ 1.20183794e+00],\n",
            "       [ 2.03901845e+00],\n",
            "       [ 1.36295494e+00],\n",
            "       [ 1.49050482e+00],\n",
            "       [ 1.59441054e+00],\n",
            "       [ 1.33571424e+00],\n",
            "       [ 1.70436227e+00],\n",
            "       [ 8.48270238e-01],\n",
            "       [ 8.72611220e-01],\n",
            "       [ 1.16122318e+00],\n",
            "       [ 1.15621125e+00],\n",
            "       [ 1.97425271e+00],\n",
            "       [ 1.44699995e+00],\n",
            "       [ 1.29284779e+00],\n",
            "       [ 7.15734664e-01],\n",
            "       [ 9.62137660e-01],\n",
            "       [ 1.46142075e+00],\n",
            "       [ 2.02554518e+00],\n",
            "       [ 1.83340630e+00],\n",
            "       [ 1.32987903e+00],\n",
            "       [ 1.27761613e+00],\n",
            "       [ 1.75845430e+00],\n",
            "       [ 1.17654116e+00],\n",
            "       [ 1.04920265e+00],\n",
            "       [ 9.69804669e-01],\n",
            "       [ 2.44701023e+00],\n",
            "       [ 1.33790436e+00],\n",
            "       [ 1.13325620e+00],\n",
            "       [ 1.23164387e+00],\n",
            "       [ 1.59327271e+00],\n",
            "       [ 1.61892804e+00],\n",
            "       [ 1.53934160e+00],\n",
            "       [ 1.19551784e+00],\n",
            "       [ 1.44178782e+00],\n",
            "       [ 1.46229895e+00],\n",
            "       [ 2.57045017e+00],\n",
            "       [ 1.81274014e+00],\n",
            "       [ 1.35642295e+00],\n",
            "       [ 2.55344945e+00],\n",
            "       [ 9.43907553e-01],\n",
            "       [ 1.36001791e+00],\n",
            "       [ 9.39933187e-01],\n",
            "       [ 1.23420262e+00],\n",
            "       [ 1.41567060e+00],\n",
            "       [ 2.02781996e+00],\n",
            "       [ 1.43647727e+00],\n",
            "       [ 1.05107539e+00],\n",
            "       [ 1.29780002e+00],\n",
            "       [ 2.57085138e+00],\n",
            "       [ 1.20981425e+00],\n",
            "       [ 1.39837418e+00],\n",
            "       [ 1.63158138e+00],\n",
            "       [ 1.18920838e+00],\n",
            "       [ 1.37078228e+00],\n",
            "       [ 1.47855330e+00],\n",
            "       [ 1.15464752e+00],\n",
            "       [ 1.14687085e+00],\n",
            "       [ 9.46082131e-01],\n",
            "       [ 1.02469921e+00],\n",
            "       [ 1.95158312e+00],\n",
            "       [ 9.87894136e-01],\n",
            "       [ 1.37313803e+00],\n",
            "       [ 1.46296406e+00],\n",
            "       [ 1.32060820e+00],\n",
            "       [ 1.33845193e+00],\n",
            "       [ 1.41771954e+00],\n",
            "       [ 1.67840939e+00],\n",
            "       [ 1.54498102e+00],\n",
            "       [ 1.21105620e+00],\n",
            "       [ 1.72315338e+00],\n",
            "       [ 1.07209093e+00],\n",
            "       [ 1.33273083e+00],\n",
            "       [ 1.51615301e+00],\n",
            "       [ 5.65820080e-01],\n",
            "       [ 1.31805577e+00],\n",
            "       [ 1.43604704e+00],\n",
            "       [ 1.52189999e+00],\n",
            "       [ 1.38482901e+00],\n",
            "       [ 1.46962739e+00],\n",
            "       [ 1.53556704e+00],\n",
            "       [ 2.10758045e+00],\n",
            "       [ 1.37280371e+00],\n",
            "       [ 1.01650475e+00],\n",
            "       [ 8.10151721e-01],\n",
            "       [ 1.55174038e+00],\n",
            "       [ 1.20184207e+00],\n",
            "       [ 1.58249035e+00],\n",
            "       [ 2.20337846e+00],\n",
            "       [ 1.48246956e+00],\n",
            "       [ 1.41600998e+00],\n",
            "       [ 1.28181364e+00],\n",
            "       [ 1.46530015e+00],\n",
            "       [ 1.44645060e+00],\n",
            "       [ 1.32141930e+00],\n",
            "       [ 6.97151990e-01],\n",
            "       [ 1.84296694e+00],\n",
            "       [ 8.89597514e-01],\n",
            "       [ 1.25793305e+00],\n",
            "       [ 1.06963187e+00],\n",
            "       [ 1.08578537e+00],\n",
            "       [ 1.11578973e+00],\n",
            "       [ 7.04167157e-01],\n",
            "       [ 8.41937293e-01],\n",
            "       [ 1.64675205e+00],\n",
            "       [ 1.44181878e+00],\n",
            "       [ 1.88008553e+00],\n",
            "       [ 1.35973726e+00],\n",
            "       [ 8.08862426e-01],\n",
            "       [ 9.98030358e-01],\n",
            "       [ 1.02878799e+00],\n",
            "       [ 1.24376373e+00],\n",
            "       [ 1.08946243e+00],\n",
            "       [ 1.54315701e+00],\n",
            "       [ 1.19627560e+00],\n",
            "       [ 1.65744093e+00],\n",
            "       [ 1.61254286e+00],\n",
            "       [ 2.08568008e+00],\n",
            "       [ 1.20962210e+00],\n",
            "       [ 8.41823445e-01],\n",
            "       [ 1.24108085e+00],\n",
            "       [ 1.01617746e+00],\n",
            "       [ 1.05476207e+00],\n",
            "       [ 2.06145270e+00],\n",
            "       [ 1.36253659e+00],\n",
            "       [ 1.46508351e+00],\n",
            "       [ 1.05149420e+00],\n",
            "       [ 1.51704512e+00],\n",
            "       [ 1.58189079e+00],\n",
            "       [ 1.53222468e+00],\n",
            "       [ 1.35424896e+00],\n",
            "       [ 1.63815126e+00],\n",
            "       [ 6.83150669e-01],\n",
            "       [ 1.35407052e+00],\n",
            "       [ 1.66664069e+00],\n",
            "       [ 1.14162007e+00],\n",
            "       [ 1.53290527e+00],\n",
            "       [ 1.25738933e+00],\n",
            "       [ 1.53201067e+00],\n",
            "       [ 1.37968301e+00],\n",
            "       [ 1.33230475e+00],\n",
            "       [ 1.09846282e+00],\n",
            "       [ 7.91497744e-01],\n",
            "       [ 1.86575169e+00],\n",
            "       [ 1.37412003e+00],\n",
            "       [ 1.33591720e+00],\n",
            "       [ 9.50082316e-01],\n",
            "       [ 1.26715884e+00],\n",
            "       [ 1.87398690e+00],\n",
            "       [ 1.05048451e+00],\n",
            "       [ 1.16808498e+00],\n",
            "       [ 1.69511090e+00],\n",
            "       [ 1.56850540e+00],\n",
            "       [ 1.45191921e+00],\n",
            "       [ 1.24141480e+00],\n",
            "       [ 1.38076462e+00],\n",
            "       [ 1.29095973e+00],\n",
            "       [ 2.69047377e-01],\n",
            "       [ 1.57222641e+00],\n",
            "       [ 7.25460300e-01],\n",
            "       [ 1.58647331e+00],\n",
            "       [ 1.58082709e+00],\n",
            "       [ 2.12608213e+00],\n",
            "       [ 1.23546312e+00],\n",
            "       [ 1.35474074e+00],\n",
            "       [ 1.26520836e+00],\n",
            "       [ 1.09849046e+00],\n",
            "       [ 2.88957340e+00],\n",
            "       [ 6.62149215e-01],\n",
            "       [ 1.50499488e+00],\n",
            "       [ 6.11163673e-01],\n",
            "       [ 1.16138467e+00],\n",
            "       [ 1.46672324e+00],\n",
            "       [ 1.32794855e+00],\n",
            "       [ 1.18700332e+00],\n",
            "       [ 1.55715965e+00],\n",
            "       [ 1.28764479e+00],\n",
            "       [ 1.19466941e+00],\n",
            "       [ 9.10934423e-01],\n",
            "       [ 1.50991969e+00],\n",
            "       [ 1.55608204e+00],\n",
            "       [ 1.13303891e+00],\n",
            "       [ 1.23145729e+00],\n",
            "       [ 5.04508875e-01],\n",
            "       [ 2.05844281e+00],\n",
            "       [ 1.55359752e+00],\n",
            "       [ 1.17646191e+00],\n",
            "       [ 9.64179394e-01],\n",
            "       [ 1.21507380e+00],\n",
            "       [ 1.24663015e+00],\n",
            "       [ 5.52324623e-01],\n",
            "       [ 1.39166757e+00],\n",
            "       [ 1.60737950e+00],\n",
            "       [ 1.15748515e+00],\n",
            "       [ 1.79855594e+00],\n",
            "       [ 1.41384729e+00],\n",
            "       [ 1.12599354e+00],\n",
            "       [ 1.50604610e+00],\n",
            "       [ 1.19281075e+00],\n",
            "       [ 1.95194093e+00],\n",
            "       [ 1.64897140e+00],\n",
            "       [ 1.25841261e+00],\n",
            "       [ 1.14588095e+00],\n",
            "       [ 2.04802953e+00],\n",
            "       [ 1.16662674e+00],\n",
            "       [ 1.67164079e+00],\n",
            "       [ 1.45651526e+00],\n",
            "       [ 1.72058163e+00],\n",
            "       [ 1.27955207e+00],\n",
            "       [ 1.34842184e+00],\n",
            "       [ 1.77697177e+00],\n",
            "       [ 9.83128441e-01],\n",
            "       [ 1.96602620e+00],\n",
            "       [ 1.46812729e+00],\n",
            "       [ 1.60130543e+00],\n",
            "       [ 1.53952968e+00],\n",
            "       [ 1.38689172e+00],\n",
            "       [ 2.68740377e+00],\n",
            "       [ 1.68720880e+00],\n",
            "       [ 9.71521688e-01],\n",
            "       [ 1.03055130e+00],\n",
            "       [ 1.14498618e+00],\n",
            "       [ 9.90319646e-01],\n",
            "       [ 2.08130620e+00],\n",
            "       [ 5.15043383e-01],\n",
            "       [ 1.91354393e+00],\n",
            "       [ 9.14160528e-01],\n",
            "       [ 1.36902400e+00],\n",
            "       [ 7.12677769e-01],\n",
            "       [ 1.10492423e+00],\n",
            "       [ 6.85359630e-01],\n",
            "       [ 1.17994794e+00],\n",
            "       [ 1.04036641e+00],\n",
            "       [ 1.55357006e+00],\n",
            "       [ 1.34053905e+00],\n",
            "       [ 1.50380524e+00],\n",
            "       [ 1.50087697e+00],\n",
            "       [ 1.37023661e+00],\n",
            "       [ 1.28235236e+00],\n",
            "       [ 1.19323868e+00]])>, <tf.Tensor: shape=(), dtype=float64, numpy=0.25808438409859336>)\n"
          ]
        },
        {
          "output_type": "display_data",
          "data": {
            "image/png": "[encoded data removed]",
            "text/plain": [
              "<Figure size 432x288 with 1 Axes>"
            ]
          },
          "metadata": {
            "needs_background": "light"
          }
        }
      ]
    },
    {
      "cell_type": "code",
      "metadata": {
        "id": "NdnX8Bkd5FIo",
        "colab": {
          "base_uri": "https://localhost:8080/"
        },
        "outputId": "40d4f300-3ce9-4506-9a9e-687652db3b56"
      },
      "source": [
        "print(\"model train score = \",model.score(X_train,y_train))"
      ],
      "execution_count": null,
      "outputs": [
        {
          "output_type": "stream",
          "name": "stdout",
          "text": [
            "model train score =  (<tf.Tensor: shape=(1513, 1), dtype=float64, numpy=\n",
            "array([[1.4031254 ],\n",
            "       [1.63852776],\n",
            "       [1.29407863],\n",
            "       ...,\n",
            "       [1.28844411],\n",
            "       [1.67446167],\n",
            "       [0.99845873]])>, <tf.Tensor: shape=(), dtype=float64, numpy=0.22539282280751824>)\n"
          ]
        }
      ]
    },
    {
      "cell_type": "code",
      "metadata": {
        "colab": {
          "base_uri": "https://localhost:8080/",
          "height": 265
        },
        "id": "P1YQuZmOOYT2",
        "outputId": "c2690fe8-ce9a-46a7-d4a8-51b83328f674"
      },
      "source": [
        "model.print_model_results()\n"
      ],
      "execution_count": null,
      "outputs": [
        {
          "output_type": "display_data",
          "data": {
            "image/png": "[encoded data removed]",
            "text/plain": [
              "<Figure size 432x288 with 1 Axes>"
            ]
          },
          "metadata": {
            "needs_background": "light"
          }
        }
      ]
    }
  ]
}