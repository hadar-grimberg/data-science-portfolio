{
  "nbformat": 4,
  "nbformat_minor": 0,
  "metadata": {
    "accelerator": "GPU",
    "colab": {
      "provenance": [],
      "include_colab_link": true
    },
    "kernelspec": {
      "display_name": "Python 3",
      "language": "python",
      "name": "python3"
    },
    "language_info": {
      "codemirror_mode": {
        "name": "ipython",
        "version": 3
      },
      "file_extension": ".py",
      "mimetype": "text/x-python",
      "name": "python",
      "nbconvert_exporter": "python",
      "pygments_lexer": "ipython3",
      "version": "3.6.12"
    },
    "widgets": {
      "application/vnd.jupyter.widget-state+json": {
        "3255403f792e4a89a7ffc4b80765dccb": {
          "model_module": "@jupyter-widgets/controls",
          "model_name": "HBoxModel",
          "model_module_version": "1.5.0",
          "state": {
            "_view_name": "HBoxView",
            "_dom_classes": [],
            "_model_name": "HBoxModel",
            "_view_module": "@jupyter-widgets/controls",
            "_model_module_version": "1.5.0",
            "_view_count": null,
            "_view_module_version": "1.5.0",
            "box_style": "",
            "layout": "IPY_MODEL_275d4a4fffae43b1b14d5817823cbb64",
            "_model_module": "@jupyter-widgets/controls",
            "children": [
              "IPY_MODEL_c1b6e2c205444093bffbd164dc903ba1",
              "IPY_MODEL_5b52bf1d600d40f0a9d9aef322f355f4",
              "IPY_MODEL_0933e89837ad42bc942f25986c72848f"
            ]
          }
        },
        "275d4a4fffae43b1b14d5817823cbb64": {
          "model_module": "@jupyter-widgets/base",
          "model_name": "LayoutModel",
          "model_module_version": "1.2.0",
          "state": {
            "_view_name": "LayoutView",
            "grid_template_rows": null,
            "right": null,
            "justify_content": null,
            "_view_module": "@jupyter-widgets/base",
            "overflow": null,
            "_model_module_version": "1.2.0",
            "_view_count": null,
            "flex_flow": null,
            "width": null,
            "min_width": null,
            "border": null,
            "align_items": null,
            "bottom": null,
            "_model_module": "@jupyter-widgets/base",
            "top": null,
            "grid_column": null,
            "overflow_y": null,
            "overflow_x": null,
            "grid_auto_flow": null,
            "grid_area": null,
            "grid_template_columns": null,
            "flex": null,
            "_model_name": "LayoutModel",
            "justify_items": null,
            "grid_row": null,
            "max_height": null,
            "align_content": null,
            "visibility": null,
            "align_self": null,
            "height": null,
            "min_height": null,
            "padding": null,
            "grid_auto_rows": null,
            "grid_gap": null,
            "max_width": null,
            "order": null,
            "_view_module_version": "1.2.0",
            "grid_template_areas": null,
            "object_position": null,
            "object_fit": null,
            "grid_auto_columns": null,
            "margin": null,
            "display": null,
            "left": null
          }
        },
        "c1b6e2c205444093bffbd164dc903ba1": {
          "model_module": "@jupyter-widgets/controls",
          "model_name": "HTMLModel",
          "model_module_version": "1.5.0",
          "state": {
            "_view_name": "HTMLView",
            "style": "IPY_MODEL_35defa43e0a34d7b97a4d03afc3cff79",
            "_dom_classes": [],
            "description": "",
            "_model_name": "HTMLModel",
            "placeholder": "​",
            "_view_module": "@jupyter-widgets/controls",
            "_model_module_version": "1.5.0",
            "value": "Epoch: 100%",
            "_view_count": null,
            "_view_module_version": "1.5.0",
            "description_tooltip": null,
            "_model_module": "@jupyter-widgets/controls",
            "layout": "IPY_MODEL_bf8db98a00e7466e8e0a623452c7e0b3"
          }
        },
        "5b52bf1d600d40f0a9d9aef322f355f4": {
          "model_module": "@jupyter-widgets/controls",
          "model_name": "FloatProgressModel",
          "model_module_version": "1.5.0",
          "state": {
            "_view_name": "ProgressView",
            "style": "IPY_MODEL_cb5ec68e6ab546b7916904a80ae7a544",
            "_dom_classes": [],
            "description": "",
            "_model_name": "FloatProgressModel",
            "bar_style": "success",
            "max": 100,
            "_view_module": "@jupyter-widgets/controls",
            "_model_module_version": "1.5.0",
            "value": 100,
            "_view_count": null,
            "_view_module_version": "1.5.0",
            "orientation": "horizontal",
            "min": 0,
            "description_tooltip": null,
            "_model_module": "@jupyter-widgets/controls",
            "layout": "IPY_MODEL_a098557e8ca44fcfb4ca3753608da2c0"
          }
        },
        "0933e89837ad42bc942f25986c72848f": {
          "model_module": "@jupyter-widgets/controls",
          "model_name": "HTMLModel",
          "model_module_version": "1.5.0",
          "state": {
            "_view_name": "HTMLView",
            "style": "IPY_MODEL_0d1eb5676c254e71b55cc8563d719b2e",
            "_dom_classes": [],
            "description": "",
            "_model_name": "HTMLModel",
            "placeholder": "​",
            "_view_module": "@jupyter-widgets/controls",
            "_model_module_version": "1.5.0",
            "value": " 100/100 [20:09&lt;00:00, 12.14s/it]",
            "_view_count": null,
            "_view_module_version": "1.5.0",
            "description_tooltip": null,
            "_model_module": "@jupyter-widgets/controls",
            "layout": "IPY_MODEL_0e3423db56a34c31b9f18fa85a0a2401"
          }
        },
        "35defa43e0a34d7b97a4d03afc3cff79": {
          "model_module": "@jupyter-widgets/controls",
          "model_name": "DescriptionStyleModel",
          "model_module_version": "1.5.0",
          "state": {
            "_view_name": "StyleView",
            "_model_name": "DescriptionStyleModel",
            "description_width": "",
            "_view_module": "@jupyter-widgets/base",
            "_model_module_version": "1.5.0",
            "_view_count": null,
            "_view_module_version": "1.2.0",
            "_model_module": "@jupyter-widgets/controls"
          }
        },
        "bf8db98a00e7466e8e0a623452c7e0b3": {
          "model_module": "@jupyter-widgets/base",
          "model_name": "LayoutModel",
          "model_module_version": "1.2.0",
          "state": {
            "_view_name": "LayoutView",
            "grid_template_rows": null,
            "right": null,
            "justify_content": null,
            "_view_module": "@jupyter-widgets/base",
            "overflow": null,
            "_model_module_version": "1.2.0",
            "_view_count": null,
            "flex_flow": null,
            "width": null,
            "min_width": null,
            "border": null,
            "align_items": null,
            "bottom": null,
            "_model_module": "@jupyter-widgets/base",
            "top": null,
            "grid_column": null,
            "overflow_y": null,
            "overflow_x": null,
            "grid_auto_flow": null,
            "grid_area": null,
            "grid_template_columns": null,
            "flex": null,
            "_model_name": "LayoutModel",
            "justify_items": null,
            "grid_row": null,
            "max_height": null,
            "align_content": null,
            "visibility": null,
            "align_self": null,
            "height": null,
            "min_height": null,
            "padding": null,
            "grid_auto_rows": null,
            "grid_gap": null,
            "max_width": null,
            "order": null,
            "_view_module_version": "1.2.0",
            "grid_template_areas": null,
            "object_position": null,
            "object_fit": null,
            "grid_auto_columns": null,
            "margin": null,
            "display": null,
            "left": null
          }
        },
        "cb5ec68e6ab546b7916904a80ae7a544": {
          "model_module": "@jupyter-widgets/controls",
          "model_name": "ProgressStyleModel",
          "model_module_version": "1.5.0",
          "state": {
            "_view_name": "StyleView",
            "_model_name": "ProgressStyleModel",
            "description_width": "",
            "_view_module": "@jupyter-widgets/base",
            "_model_module_version": "1.5.0",
            "_view_count": null,
            "_view_module_version": "1.2.0",
            "bar_color": null,
            "_model_module": "@jupyter-widgets/controls"
          }
        },
        "a098557e8ca44fcfb4ca3753608da2c0": {
          "model_module": "@jupyter-widgets/base",
          "model_name": "LayoutModel",
          "model_module_version": "1.2.0",
          "state": {
            "_view_name": "LayoutView",
            "grid_template_rows": null,
            "right": null,
            "justify_content": null,
            "_view_module": "@jupyter-widgets/base",
            "overflow": null,
            "_model_module_version": "1.2.0",
            "_view_count": null,
            "flex_flow": null,
            "width": null,
            "min_width": null,
            "border": null,
            "align_items": null,
            "bottom": null,
            "_model_module": "@jupyter-widgets/base",
            "top": null,
            "grid_column": null,
            "overflow_y": null,
            "overflow_x": null,
            "grid_auto_flow": null,
            "grid_area": null,
            "grid_template_columns": null,
            "flex": null,
            "_model_name": "LayoutModel",
            "justify_items": null,
            "grid_row": null,
            "max_height": null,
            "align_content": null,
            "visibility": null,
            "align_self": null,
            "height": null,
            "min_height": null,
            "padding": null,
            "grid_auto_rows": null,
            "grid_gap": null,
            "max_width": null,
            "order": null,
            "_view_module_version": "1.2.0",
            "grid_template_areas": null,
            "object_position": null,
            "object_fit": null,
            "grid_auto_columns": null,
            "margin": null,
            "display": null,
            "left": null
          }
        },
        "0d1eb5676c254e71b55cc8563d719b2e": {
          "model_module": "@jupyter-widgets/controls",
          "model_name": "DescriptionStyleModel",
          "model_module_version": "1.5.0",
          "state": {
            "_view_name": "StyleView",
            "_model_name": "DescriptionStyleModel",
            "description_width": "",
            "_view_module": "@jupyter-widgets/base",
            "_model_module_version": "1.5.0",
            "_view_count": null,
            "_view_module_version": "1.2.0",
            "_model_module": "@jupyter-widgets/controls"
          }
        },
        "0e3423db56a34c31b9f18fa85a0a2401": {
          "model_module": "@jupyter-widgets/base",
          "model_name": "LayoutModel",
          "model_module_version": "1.2.0",
          "state": {
            "_view_name": "LayoutView",
            "grid_template_rows": null,
            "right": null,
            "justify_content": null,
            "_view_module": "@jupyter-widgets/base",
            "overflow": null,
            "_model_module_version": "1.2.0",
            "_view_count": null,
            "flex_flow": null,
            "width": null,
            "min_width": null,
            "border": null,
            "align_items": null,
            "bottom": null,
            "_model_module": "@jupyter-widgets/base",
            "top": null,
            "grid_column": null,
            "overflow_y": null,
            "overflow_x": null,
            "grid_auto_flow": null,
            "grid_area": null,
            "grid_template_columns": null,
            "flex": null,
            "_model_name": "LayoutModel",
            "justify_items": null,
            "grid_row": null,
            "max_height": null,
            "align_content": null,
            "visibility": null,
            "align_self": null,
            "height": null,
            "min_height": null,
            "padding": null,
            "grid_auto_rows": null,
            "grid_gap": null,
            "max_width": null,
            "order": null,
            "_view_module_version": "1.2.0",
            "grid_template_areas": null,
            "object_position": null,
            "object_fit": null,
            "grid_auto_columns": null,
            "margin": null,
            "display": null,
            "left": null
          }
        },
        "da039ee09be34ad98f177bacf47aa710": {
          "model_module": "@jupyter-widgets/controls",
          "model_name": "HBoxModel",
          "model_module_version": "1.5.0",
          "state": {
            "_view_name": "HBoxView",
            "_dom_classes": [],
            "_model_name": "HBoxModel",
            "_view_module": "@jupyter-widgets/controls",
            "_model_module_version": "1.5.0",
            "_view_count": null,
            "_view_module_version": "1.5.0",
            "box_style": "",
            "layout": "IPY_MODEL_db8fbce40bc94e2d839d9218b8f059e1",
            "_model_module": "@jupyter-widgets/controls",
            "children": [
              "IPY_MODEL_7b1aa937070d4f448d11c852aa843b95",
              "IPY_MODEL_c1d1969565cf4c839a8c146427202a04",
              "IPY_MODEL_782cbaaf815c4e0aa5cca9fd2a363197"
            ]
          }
        },
        "db8fbce40bc94e2d839d9218b8f059e1": {
          "model_module": "@jupyter-widgets/base",
          "model_name": "LayoutModel",
          "model_module_version": "1.2.0",
          "state": {
            "_view_name": "LayoutView",
            "grid_template_rows": null,
            "right": null,
            "justify_content": null,
            "_view_module": "@jupyter-widgets/base",
            "overflow": null,
            "_model_module_version": "1.2.0",
            "_view_count": null,
            "flex_flow": null,
            "width": null,
            "min_width": null,
            "border": null,
            "align_items": null,
            "bottom": null,
            "_model_module": "@jupyter-widgets/base",
            "top": null,
            "grid_column": null,
            "overflow_y": null,
            "overflow_x": null,
            "grid_auto_flow": null,
            "grid_area": null,
            "grid_template_columns": null,
            "flex": null,
            "_model_name": "LayoutModel",
            "justify_items": null,
            "grid_row": null,
            "max_height": null,
            "align_content": null,
            "visibility": null,
            "align_self": null,
            "height": null,
            "min_height": null,
            "padding": null,
            "grid_auto_rows": null,
            "grid_gap": null,
            "max_width": null,
            "order": null,
            "_view_module_version": "1.2.0",
            "grid_template_areas": null,
            "object_position": null,
            "object_fit": null,
            "grid_auto_columns": null,
            "margin": null,
            "display": null,
            "left": null
          }
        },
        "7b1aa937070d4f448d11c852aa843b95": {
          "model_module": "@jupyter-widgets/controls",
          "model_name": "HTMLModel",
          "model_module_version": "1.5.0",
          "state": {
            "_view_name": "HTMLView",
            "style": "IPY_MODEL_a69c04dfdb9c457a886e349594bbe776",
            "_dom_classes": [],
            "description": "",
            "_model_name": "HTMLModel",
            "placeholder": "​",
            "_view_module": "@jupyter-widgets/controls",
            "_model_module_version": "1.5.0",
            "value": "Iteration: 100%",
            "_view_count": null,
            "_view_module_version": "1.5.0",
            "description_tooltip": null,
            "_model_module": "@jupyter-widgets/controls",
            "layout": "IPY_MODEL_9354a47105f841308eef52a0318205db"
          }
        },
        "c1d1969565cf4c839a8c146427202a04": {
          "model_module": "@jupyter-widgets/controls",
          "model_name": "FloatProgressModel",
          "model_module_version": "1.5.0",
          "state": {
            "_view_name": "ProgressView",
            "style": "IPY_MODEL_7a01859bf0f9434c8ff37c4782cb9a14",
            "_dom_classes": [],
            "description": "",
            "_model_name": "FloatProgressModel",
            "bar_style": "success",
            "max": 63,
            "_view_module": "@jupyter-widgets/controls",
            "_model_module_version": "1.5.0",
            "value": 63,
            "_view_count": null,
            "_view_module_version": "1.5.0",
            "orientation": "horizontal",
            "min": 0,
            "description_tooltip": null,
            "_model_module": "@jupyter-widgets/controls",
            "layout": "IPY_MODEL_aa31499e95c34dbb8e8407ae585d1f5d"
          }
        },
        "782cbaaf815c4e0aa5cca9fd2a363197": {
          "model_module": "@jupyter-widgets/controls",
          "model_name": "HTMLModel",
          "model_module_version": "1.5.0",
          "state": {
            "_view_name": "HTMLView",
            "style": "IPY_MODEL_6b2fa13270fe4908bded4bd6bc812d53",
            "_dom_classes": [],
            "description": "",
            "_model_name": "HTMLModel",
            "placeholder": "​",
            "_view_module": "@jupyter-widgets/controls",
            "_model_module_version": "1.5.0",
            "value": " 63/63 [00:11&lt;00:00,  5.53it/s]",
            "_view_count": null,
            "_view_module_version": "1.5.0",
            "description_tooltip": null,
            "_model_module": "@jupyter-widgets/controls",
            "layout": "IPY_MODEL_7275bce12e0b4f96b33cddf696012f15"
          }
        },
        "a69c04dfdb9c457a886e349594bbe776": {
          "model_module": "@jupyter-widgets/controls",
          "model_name": "DescriptionStyleModel",
          "model_module_version": "1.5.0",
          "state": {
            "_view_name": "StyleView",
            "_model_name": "DescriptionStyleModel",
            "description_width": "",
            "_view_module": "@jupyter-widgets/base",
            "_model_module_version": "1.5.0",
            "_view_count": null,
            "_view_module_version": "1.2.0",
            "_model_module": "@jupyter-widgets/controls"
          }
        },
        "9354a47105f841308eef52a0318205db": {
          "model_module": "@jupyter-widgets/base",
          "model_name": "LayoutModel",
          "model_module_version": "1.2.0",
          "state": {
            "_view_name": "LayoutView",
            "grid_template_rows": null,
            "right": null,
            "justify_content": null,
            "_view_module": "@jupyter-widgets/base",
            "overflow": null,
            "_model_module_version": "1.2.0",
            "_view_count": null,
            "flex_flow": null,
            "width": null,
            "min_width": null,
            "border": null,
            "align_items": null,
            "bottom": null,
            "_model_module": "@jupyter-widgets/base",
            "top": null,
            "grid_column": null,
            "overflow_y": null,
            "overflow_x": null,
            "grid_auto_flow": null,
            "grid_area": null,
            "grid_template_columns": null,
            "flex": null,
            "_model_name": "LayoutModel",
            "justify_items": null,
            "grid_row": null,
            "max_height": null,
            "align_content": null,
            "visibility": null,
            "align_self": null,
            "height": null,
            "min_height": null,
            "padding": null,
            "grid_auto_rows": null,
            "grid_gap": null,
            "max_width": null,
            "order": null,
            "_view_module_version": "1.2.0",
            "grid_template_areas": null,
            "object_position": null,
            "object_fit": null,
            "grid_auto_columns": null,
            "margin": null,
            "display": null,
            "left": null
          }
        },
        "7a01859bf0f9434c8ff37c4782cb9a14": {
          "model_module": "@jupyter-widgets/controls",
          "model_name": "ProgressStyleModel",
          "model_module_version": "1.5.0",
          "state": {
            "_view_name": "StyleView",
            "_model_name": "ProgressStyleModel",
            "description_width": "",
            "_view_module": "@jupyter-widgets/base",
            "_model_module_version": "1.5.0",
            "_view_count": null,
            "_view_module_version": "1.2.0",
            "bar_color": null,
            "_model_module": "@jupyter-widgets/controls"
          }
        },
        "aa31499e95c34dbb8e8407ae585d1f5d": {
          "model_module": "@jupyter-widgets/base",
          "model_name": "LayoutModel",
          "model_module_version": "1.2.0",
          "state": {
            "_view_name": "LayoutView",
            "grid_template_rows": null,
            "right": null,
            "justify_content": null,
            "_view_module": "@jupyter-widgets/base",
            "overflow": null,
            "_model_module_version": "1.2.0",
            "_view_count": null,
            "flex_flow": null,
            "width": null,
            "min_width": null,
            "border": null,
            "align_items": null,
            "bottom": null,
            "_model_module": "@jupyter-widgets/base",
            "top": null,
            "grid_column": null,
            "overflow_y": null,
            "overflow_x": null,
            "grid_auto_flow": null,
            "grid_area": null,
            "grid_template_columns": null,
            "flex": null,
            "_model_name": "LayoutModel",
            "justify_items": null,
            "grid_row": null,
            "max_height": null,
            "align_content": null,
            "visibility": null,
            "align_self": null,
            "height": null,
            "min_height": null,
            "padding": null,
            "grid_auto_rows": null,
            "grid_gap": null,
            "max_width": null,
            "order": null,
            "_view_module_version": "1.2.0",
            "grid_template_areas": null,
            "object_position": null,
            "object_fit": null,
            "grid_auto_columns": null,
            "margin": null,
            "display": null,
            "left": null
          }
        },
        "6b2fa13270fe4908bded4bd6bc812d53": {
          "model_module": "@jupyter-widgets/controls",
          "model_name": "DescriptionStyleModel",
          "model_module_version": "1.5.0",
          "state": {
            "_view_name": "StyleView",
            "_model_name": "DescriptionStyleModel",
            "description_width": "",
            "_view_module": "@jupyter-widgets/base",
            "_model_module_version": "1.5.0",
            "_view_count": null,
            "_view_module_version": "1.2.0",
            "_model_module": "@jupyter-widgets/controls"
          }
        },
        "7275bce12e0b4f96b33cddf696012f15": {
          "model_module": "@jupyter-widgets/base",
          "model_name": "LayoutModel",
          "model_module_version": "1.2.0",
          "state": {
            "_view_name": "LayoutView",
            "grid_template_rows": null,
            "right": null,
            "justify_content": null,
            "_view_module": "@jupyter-widgets/base",
            "overflow": null,
            "_model_module_version": "1.2.0",
            "_view_count": null,
            "flex_flow": null,
            "width": null,
            "min_width": null,
            "border": null,
            "align_items": null,
            "bottom": null,
            "_model_module": "@jupyter-widgets/base",
            "top": null,
            "grid_column": null,
            "overflow_y": null,
            "overflow_x": null,
            "grid_auto_flow": null,
            "grid_area": null,
            "grid_template_columns": null,
            "flex": null,
            "_model_name": "LayoutModel",
            "justify_items": null,
            "grid_row": null,
            "max_height": null,
            "align_content": null,
            "visibility": null,
            "align_self": null,
            "height": null,
            "min_height": null,
            "padding": null,
            "grid_auto_rows": null,
            "grid_gap": null,
            "max_width": null,
            "order": null,
            "_view_module_version": "1.2.0",
            "grid_template_areas": null,
            "object_position": null,
            "object_fit": null,
            "grid_auto_columns": null,
            "margin": null,
            "display": null,
            "left": null
          }
        }
      }
    }
  },
  "cells": [
    {
      "cell_type": "markdown",
      "metadata": {
        "id": "view-in-github",
        "colab_type": "text"
      },
      "source": [
        "<a href=\"https://colab.research.google.com/github/hadar-grimberg/data-science-portfolio/blob/main/SentenceTransformer_for_similarity_w_summarization.ipynb\" target=\"_parent\"><img src=\"https://colab.research.google.com/assets/colab-badge.svg\" alt=\"Open In Colab\"/></a>"
      ]
    },
    {
      "cell_type": "markdown",
      "metadata": {
        "id": "6RprnRaVPyrU"
      },
      "source": [
        "# Description"
      ]
    },
    {
      "cell_type": "markdown",
      "metadata": {
        "id": "80Kxg76tPyrR"
      },
      "source": [
        "### The purpose of the code is to finetune a pretrained model to measure the semantic similarity of two texts: job title and job description (Semantic Textual Similarity task - STS)"
      ]
    },
    {
      "cell_type": "markdown",
      "metadata": {
        "id": "tjldC3yNWGkp"
      },
      "source": [
        "### The data is labeled dataset of job ads, contains the following features:\n",
        "<br>\n",
        "**row_index_title_en** - index of the row\n",
        "<br>\n",
        "**title_en - the job title** in english\n",
        "<br>\n",
        "**row_index_description_en** - the row index of description\n",
        "<br>\n",
        "**description_en - the job** description in english\n",
        "<br>\n",
        "**subcategory_id_title_en** - subcategory index of title\n",
        "<br>\n",
        "**subcategory_id_description_en** - subcategory index of description\n",
        "<br>\n",
        "**label** - 0 or 1\n",
        "<br>\n",
        "**label_title** - diff or same\n",
        "<br>\n",
        "**subcategory_title_en** - the subcategory of the title\n",
        "<br>\n",
        "**subcategory_description_en**  - the subcategory of the description\n",
        "<br><br>\n",
        "* The label is given depending on the identity between the two subcategories."
      ]
    },
    {
      "cell_type": "markdown",
      "metadata": {
        "id": "yxMX1CB1diIK"
      },
      "source": [
        "### The model:\n",
        "<br>\n",
        "The model is \"all-MiniLM-L6-v2\", which is a sentence-transformers model. It maps sentences & paragraphs to a 384 dimensional dense vector space.\n",
        "\"all-MiniLM-L6-v2\" is faster (than other pretrained sentence-transformers models) and still offers good quality results for STS task.\n",
        "<br>\n",
        "The purpose code is to fine tune the network and recognize the similarity of sentences.\n",
        "I used Cosine Similarity as a loss function for this task"
      ]
    },
    {
      "cell_type": "markdown",
      "metadata": {
        "id": "CWjSp51NPyrd"
      },
      "source": [
        "## Load Libraries"
      ]
    },
    {
      "cell_type": "code",
      "metadata": {
        "colab": {
          "base_uri": "https://localhost:8080/"
        },
        "id": "vsCjj3jePyrg",
        "outputId": "de7cc253-8641-421d-d7b1-54ffcb5e9924"
      },
      "source": [
        "import os\n",
        "import numpy as np\n",
        "import pandas as pd\n",
        "from datetime import datetime\n",
        "from scipy import stats\n",
        "import torch\n",
        "from torch.utils.data import DataLoader # Python iterable over a dataset\n",
        "from sentence_transformers import evaluation # SentenceTransformers is a Python framework for state-of-the-art sentence, text and image embeddings\n",
        "from sentence_transformers import SentenceTransformer, InputExample, losses, models, util\n",
        "import nltk\n",
        "nltk.download('punkt')"
      ],
      "execution_count": null,
      "outputs": [
        {
          "output_type": "stream",
          "name": "stdout",
          "text": [
            "[nltk_data] Downloading package punkt to /root/nltk_data...\n",
            "[nltk_data]   Package punkt is already up-to-date!\n"
          ]
        },
        {
          "output_type": "execute_result",
          "data": {
            "text/plain": [
              "True"
            ]
          },
          "metadata": {},
          "execution_count": 2
        }
      ]
    },
    {
      "cell_type": "markdown",
      "metadata": {
        "id": "tS3SWRMbPyrk"
      },
      "source": [
        "## Configure"
      ]
    },
    {
      "cell_type": "code",
      "metadata": {
        "id": "pGskGlmoFif2"
      },
      "source": [
        "# configure pandas display\n",
        "pd.options.display.float_format = '{:,.2f}'.format"
      ],
      "execution_count": null,
      "outputs": []
    },
    {
      "cell_type": "code",
      "metadata": {
        "id": "CYFA_NL0Pyrp"
      },
      "source": [
        "# configure loading and saving paths\n",
        "model_name = \"similarity_classification\" # fill with a representive short name to the algorithem being used\n",
        "time_stamp = str(datetime.now().timestamp())# get time stamp\n",
        "model_dir_data = model_name + \"_\" + time_stamp\n",
        "base_path = os.path.abspath('')\n",
        "input_path = os.path.join(base_path, \"input_data\")\n",
        "output_path = os.path.join(base_path, \"output_models\")\n",
        "model_path = os.path.join(output_path, model_dir_data)\n",
        "if not os.path.exists(model_path):\n",
        "    os.makedirs(model_path)\n",
        "max_seq_length =  128 # fill"
      ],
      "execution_count": null,
      "outputs": []
    },
    {
      "cell_type": "markdown",
      "metadata": {
        "id": "RfzeewuzPyrs"
      },
      "source": [
        "## Create Model"
      ]
    },
    {
      "cell_type": "code",
      "source": [],
      "metadata": {
        "id": "_J2J84EZtf5g"
      },
      "execution_count": null,
      "outputs": []
    },
    {
      "cell_type": "markdown",
      "source": [
        "\"all-MiniLM-L6-v2\" model is intended to be used as a sentence and short paragraph encoder. Given an input text, it outputs a vector which captures the semantic information. The sentence vector may be used for information retrieval, clustering or sentence similarity tasks."
      ],
      "metadata": {
        "id": "ov4R-fvPtZal"
      }
    },
    {
      "cell_type": "code",
      "metadata": {
        "id": "9a472co-Pyrv"
      },
      "source": [
        "# Define appropriate model for the task\n",
        "model = SentenceTransformer('all-MiniLM-L6-v2')  # A model for Semantic Textual Similarity\n",
        "# Define the maximal inpute\n",
        "model.max_seq_length = max_seq_length"
      ],
      "execution_count": null,
      "outputs": []
    },
    {
      "cell_type": "markdown",
      "metadata": {
        "id": "RMvy_fbPPyrz"
      },
      "source": [
        "## Load Data"
      ]
    },
    {
      "cell_type": "code",
      "metadata": {
        "id": "jrdUtxraPyr0"
      },
      "source": [
        "# Load the datasets from csv\n",
        "train_df = pd.read_csv(os.path.join(input_path, 'trial_1', 'train.csv'), encoding='utf-8-sig')\n",
        "val_df = pd.read_csv(os.path.join(input_path, 'trial_1', 'val.csv'), encoding='utf-8-sig')\n",
        "test_df = pd.read_csv(os.path.join(input_path, 'trial_1', 'test.csv'), encoding='utf-8-sig')"
      ],
      "execution_count": null,
      "outputs": []
    },
    {
      "cell_type": "markdown",
      "metadata": {
        "id": "4vW9culypT3x"
      },
      "source": [
        "## Data Exploration"
      ]
    },
    {
      "cell_type": "code",
      "metadata": {
        "id": "D3Y0zurSCm0p",
        "colab": {
          "base_uri": "https://localhost:8080/"
        },
        "outputId": "582c4a9c-80a8-4c81-dbfb-8a491509918f"
      },
      "source": [
        "# Check if all datasets have the same columns (see that the data structure is the same, otherwise this should be taken into account in the preprocess)\n",
        "print(all(train_df.columns==val_df.columns))\n",
        "print(all(train_df.columns==test_df.columns))\n",
        "# all tables have the same features, now, let's examine them\n",
        "print(f\"dataset has {len(train_df.columns)} columns\")\n",
        "print(train_df.columns)\n"
      ],
      "execution_count": null,
      "outputs": [
        {
          "output_type": "stream",
          "name": "stdout",
          "text": [
            "True\n",
            "True\n",
            "dataset has 12 columns\n",
            "Index(['row_index_title_en', 'title_en', 'row_index_description_en',\n",
            "       'description_en', 'subcategory_id_title_en',\n",
            "       'subcategory_id_description_en', 'job_id_title_en',\n",
            "       'job_id_description_en', 'label', 'label_title', 'subcategory_title_en',\n",
            "       'subcategory_description_en'],\n",
            "      dtype='object')\n"
          ]
        }
      ]
    },
    {
      "cell_type": "code",
      "metadata": {
        "id": "zBDlGRAA8F3A",
        "colab": {
          "base_uri": "https://localhost:8080/"
        },
        "outputId": "44133de0-4adf-4206-9470-0afee1a9c3a6"
      },
      "source": [
        "# check the type of the columns\n",
        "train_df.dtypes"
      ],
      "execution_count": null,
      "outputs": [
        {
          "output_type": "execute_result",
          "data": {
            "text/plain": [
              "row_index_title_en                 int64\n",
              "title_en                          object\n",
              "row_index_description_en           int64\n",
              "description_en                    object\n",
              "subcategory_id_title_en          float64\n",
              "subcategory_id_description_en    float64\n",
              "job_id_title_en                    int64\n",
              "job_id_description_en              int64\n",
              "label                              int64\n",
              "label_title                       object\n",
              "subcategory_title_en              object\n",
              "subcategory_description_en        object\n",
              "dtype: object"
            ]
          },
          "metadata": {},
          "execution_count": 8
        }
      ]
    },
    {
      "cell_type": "code",
      "metadata": {
        "id": "EBfRLvJL4e5v",
        "colab": {
          "base_uri": "https://localhost:8080/",
          "height": 469
        },
        "outputId": "68730449-d81a-499f-e687-db268b883371"
      },
      "source": [
        "# Check the first 5 rows to see how the data looks like\n",
        "train_df.head()"
      ],
      "execution_count": null,
      "outputs": [
        {
          "output_type": "execute_result",
          "data": {
            "text/html": [
              "<div>\n",
              "<style scoped>\n",
              "    .dataframe tbody tr th:only-of-type {\n",
              "        vertical-align: middle;\n",
              "    }\n",
              "\n",
              "    .dataframe tbody tr th {\n",
              "        vertical-align: top;\n",
              "    }\n",
              "\n",
              "    .dataframe thead th {\n",
              "        text-align: right;\n",
              "    }\n",
              "</style>\n",
              "<table border=\"1\" class=\"dataframe\">\n",
              "  <thead>\n",
              "    <tr style=\"text-align: right;\">\n",
              "      <th></th>\n",
              "      <th>row_index_title_en</th>\n",
              "      <th>title_en</th>\n",
              "      <th>row_index_description_en</th>\n",
              "      <th>description_en</th>\n",
              "      <th>subcategory_id_title_en</th>\n",
              "      <th>subcategory_id_description_en</th>\n",
              "      <th>job_id_title_en</th>\n",
              "      <th>job_id_description_en</th>\n",
              "      <th>label</th>\n",
              "      <th>label_title</th>\n",
              "      <th>subcategory_title_en</th>\n",
              "      <th>subcategory_description_en</th>\n",
              "    </tr>\n",
              "  </thead>\n",
              "  <tbody>\n",
              "    <tr>\n",
              "      <th>0</th>\n",
              "      <td>35612</td>\n",
              "      <td>Intern for the Neurological Department</td>\n",
              "      <td>35612</td>\n",
              "      <td>The neurological department at a medical cente...</td>\n",
              "      <td>539.00</td>\n",
              "      <td>539.00</td>\n",
              "      <td>5226341</td>\n",
              "      <td>5226341</td>\n",
              "      <td>1</td>\n",
              "      <td>same</td>\n",
              "      <td>Physician and surgeons</td>\n",
              "      <td>Physician and surgeons</td>\n",
              "    </tr>\n",
              "    <tr>\n",
              "      <th>1</th>\n",
              "      <td>97706</td>\n",
              "      <td>You are invited to join the service family in ...</td>\n",
              "      <td>97706</td>\n",
              "      <td>Because your time is precious to us! You are i...</td>\n",
              "      <td>693.00</td>\n",
              "      <td>693.00</td>\n",
              "      <td>6155479</td>\n",
              "      <td>6155479</td>\n",
              "      <td>1</td>\n",
              "      <td>same</td>\n",
              "      <td>Customer service representatives</td>\n",
              "      <td>Customer service representatives</td>\n",
              "    </tr>\n",
              "    <tr>\n",
              "      <th>2</th>\n",
              "      <td>52920</td>\n",
              "      <td>Helpdesk Man/Wife</td>\n",
              "      <td>52920</td>\n",
              "      <td>Require a Helpdesk man/wife. \\nFull-time in th...</td>\n",
              "      <td>1,459.00</td>\n",
              "      <td>1,459.00</td>\n",
              "      <td>5728215</td>\n",
              "      <td>5728215</td>\n",
              "      <td>1</td>\n",
              "      <td>same</td>\n",
              "      <td>Help Desk - Software</td>\n",
              "      <td>Help Desk - Software</td>\n",
              "    </tr>\n",
              "    <tr>\n",
              "      <th>3</th>\n",
              "      <td>4932</td>\n",
              "      <td>Architectural engineer</td>\n",
              "      <td>90211</td>\n",
              "      <td>A law firm located in BSR 3 tower in Bnei Brak...</td>\n",
              "      <td>1,631.00</td>\n",
              "      <td>669.00</td>\n",
              "      <td>5291642</td>\n",
              "      <td>6111701</td>\n",
              "      <td>0</td>\n",
              "      <td>diff</td>\n",
              "      <td>architecture engineer</td>\n",
              "      <td>Lawyer</td>\n",
              "    </tr>\n",
              "    <tr>\n",
              "      <th>4</th>\n",
              "      <td>77544</td>\n",
              "      <td>Management teams for Israel's largest fashion ...</td>\n",
              "      <td>27736</td>\n",
              "      <td>A construction and architecture company specia...</td>\n",
              "      <td>1,517.00</td>\n",
              "      <td>400.00</td>\n",
              "      <td>5620686</td>\n",
              "      <td>5947423</td>\n",
              "      <td>0</td>\n",
              "      <td>diff</td>\n",
              "      <td>Branch manager / store manager</td>\n",
              "      <td>Foreman</td>\n",
              "    </tr>\n",
              "  </tbody>\n",
              "</table>\n",
              "</div>"
            ],
            "text/plain": [
              "   row_index_title_en  ...        subcategory_description_en\n",
              "0               35612  ...            Physician and surgeons\n",
              "1               97706  ...  Customer service representatives\n",
              "2               52920  ...              Help Desk - Software\n",
              "3                4932  ...                            Lawyer\n",
              "4               77544  ...                           Foreman\n",
              "\n",
              "[5 rows x 12 columns]"
            ]
          },
          "metadata": {},
          "execution_count": 9
        }
      ]
    },
    {
      "cell_type": "code",
      "metadata": {
        "id": "DdByqjnaEZqt",
        "colab": {
          "base_uri": "https://localhost:8080/"
        },
        "outputId": "8be1ef38-d21e-4e27-f75f-6a0837dee1a7"
      },
      "source": [
        "# Looks like the numeric features are the indecies of the nominal features. Let's check how many unique values we have of each\n",
        "numeric_features = train_df.select_dtypes(include=[np.number]).columns.to_list()\n",
        "print(train_df[numeric_features].nunique())\n",
        "print(train_df.label_title.unique())"
      ],
      "execution_count": null,
      "outputs": [
        {
          "output_type": "stream",
          "name": "stdout",
          "text": [
            "row_index_title_en               1000\n",
            "row_index_description_en         1000\n",
            "subcategory_id_title_en           381\n",
            "subcategory_id_description_en     379\n",
            "job_id_title_en                  1000\n",
            "job_id_description_en            1000\n",
            "label                               2\n",
            "dtype: int64\n",
            "['same' 'diff']\n"
          ]
        }
      ]
    },
    {
      "cell_type": "markdown",
      "metadata": {
        "id": "8xLKycxaPvcF"
      },
      "source": [
        "There are 1000 kinds of each job titles and  job descriptions (but not same indecies)\n",
        "<br>\n",
        "There are 381 kinds subcategory_id_title and 379 kinds of subcategory_id_descriptions\n",
        "<br>\n",
        "The labels are \"same\" or \"diff\""
      ]
    },
    {
      "cell_type": "code",
      "metadata": {
        "id": "R_lgs7mTVRTg",
        "colab": {
          "base_uri": "https://localhost:8080/"
        },
        "outputId": "eca8a3b8-4fc1-46a6-9cd8-b836a5ecde0c"
      },
      "source": [
        "# Check if the unique indecies are same between titles and descriptions\n",
        "print(\"Is all job_id_title are the same as job_id_description? \", all(np.sort(train_df.job_id_title_en.unique())==np.sort(train_df.job_id_description_en.unique())))\n",
        "print(\"Is all job_id_title are the same as job_id_description? \", any(np.sort(train_df.job_id_title_en.unique())==np.sort(train_df.job_id_description_en.unique())))\n",
        "# only few of them\n",
        "print(\"Is all row_index_title are the same as row_index_description? \", all(np.sort(train_df.row_index_title_en.unique())==np.sort(train_df.row_index_description_en.unique())))\n",
        "print(\"Is all row_index_title are the same as row_index_description? \", any(np.sort(train_df.row_index_title_en.unique())==np.sort(train_df.row_index_description_en.unique())))"
      ],
      "execution_count": null,
      "outputs": [
        {
          "output_type": "stream",
          "name": "stdout",
          "text": [
            "Is all job_id_title are the same as job_id_description?  False\n",
            "Is all job_id_title are the same as job_id_description?  True\n",
            "Is all row_index_title are the same as row_index_description?  False\n",
            "Is all row_index_title are the same as row_index_description?  True\n"
          ]
        }
      ]
    },
    {
      "cell_type": "code",
      "metadata": {
        "id": "kX09nwMVQVfE",
        "colab": {
          "base_uri": "https://localhost:8080/"
        },
        "outputId": "f329fe90-e748-497e-a42e-5e44370fae7f"
      },
      "source": [
        "# Check if when row_index_title_en = row_index_description_en, job_id_title_en is not equal to job_id_description_en\n",
        "print(train_df[[\"job_id_title_en\", \"job_id_description_en\"]][(train_df.row_index_title_en==train_df.row_index_description_en)&(train_df.job_id_title_en!=train_df.job_id_description_en)])\n",
        "\n",
        "# Table is empty, row_index is redundant\n",
        "# Let's remove it\n",
        "train_df.drop([\"job_id_title_en\", \"job_id_description_en\"], inplace=True, axis=1)\n",
        "val_df.drop([\"job_id_title_en\", \"job_id_description_en\"], inplace=True, axis=1)\n",
        "test_df.drop([\"job_id_title_en\", \"job_id_description_en\"], inplace=True, axis=1)"
      ],
      "execution_count": null,
      "outputs": [
        {
          "output_type": "stream",
          "name": "stdout",
          "text": [
            "Empty DataFrame\n",
            "Columns: [job_id_title_en, job_id_description_en]\n",
            "Index: []\n"
          ]
        }
      ]
    },
    {
      "cell_type": "markdown",
      "metadata": {
        "id": "RJiMGQwr7n-b"
      },
      "source": [
        "Check for nulls in data"
      ]
    },
    {
      "cell_type": "code",
      "metadata": {
        "id": "pkiL4F0o7Qzq",
        "colab": {
          "base_uri": "https://localhost:8080/"
        },
        "outputId": "7de799fa-c282-41d4-bd8c-4615a60a4f67"
      },
      "source": [
        "train_df.isnull().sum()"
      ],
      "execution_count": null,
      "outputs": [
        {
          "output_type": "execute_result",
          "data": {
            "text/plain": [
              "row_index_title_en               0\n",
              "title_en                         0\n",
              "row_index_description_en         0\n",
              "description_en                   0\n",
              "subcategory_id_title_en          3\n",
              "subcategory_id_description_en    3\n",
              "label                            0\n",
              "label_title                      0\n",
              "subcategory_title_en             3\n",
              "subcategory_description_en       3\n",
              "dtype: int64"
            ]
          },
          "metadata": {},
          "execution_count": 13
        }
      ]
    },
    {
      "cell_type": "code",
      "metadata": {
        "id": "oE_fe1bS7QsR",
        "colab": {
          "base_uri": "https://localhost:8080/"
        },
        "outputId": "6aa08606-c379-448f-f67f-46d0be1a2a46"
      },
      "source": [
        "val_df.isnull().sum()"
      ],
      "execution_count": null,
      "outputs": [
        {
          "output_type": "execute_result",
          "data": {
            "text/plain": [
              "row_index_title_en               0\n",
              "title_en                         0\n",
              "row_index_description_en         0\n",
              "description_en                   0\n",
              "subcategory_id_title_en          0\n",
              "subcategory_id_description_en    0\n",
              "label                            0\n",
              "label_title                      0\n",
              "subcategory_title_en             0\n",
              "subcategory_description_en       0\n",
              "dtype: int64"
            ]
          },
          "metadata": {},
          "execution_count": 14
        }
      ]
    },
    {
      "cell_type": "code",
      "metadata": {
        "id": "3ggBJP7c7QmB",
        "colab": {
          "base_uri": "https://localhost:8080/"
        },
        "outputId": "f216784b-4a79-41fd-b454-becb35618b3a"
      },
      "source": [
        "test_df.isnull().sum()"
      ],
      "execution_count": null,
      "outputs": [
        {
          "output_type": "execute_result",
          "data": {
            "text/plain": [
              "row_index_title_en               0\n",
              "title_en                         0\n",
              "row_index_description_en         0\n",
              "description_en                   0\n",
              "subcategory_id_title_en          0\n",
              "subcategory_id_description_en    0\n",
              "label                            0\n",
              "label_title                      0\n",
              "subcategory_title_en             0\n",
              "subcategory_description_en       0\n",
              "dtype: int64"
            ]
          },
          "metadata": {},
          "execution_count": 15
        }
      ]
    },
    {
      "cell_type": "markdown",
      "metadata": {
        "id": "OLH4Bqg17kfJ"
      },
      "source": [
        "Only three nulls within the train-set. There is no need deal with missing values"
      ]
    },
    {
      "cell_type": "code",
      "metadata": {
        "id": "K5AeeeT09FQB",
        "colab": {
          "base_uri": "https://localhost:8080/"
        },
        "outputId": "86f506a4-6f56-45cb-8ab0-871f8ccffd14"
      },
      "source": [
        "#Check maximum length of strings in \"object\" columns\n",
        "measurer = np.vectorize(len)\n",
        "str_len=measurer(train_df.select_dtypes(include=[object]).values.astype(str)).max(axis=0)\n",
        "cols=train_df.select_dtypes(include=[object]).columns.to_list()\n",
        "for c, i in zip(cols, str_len):\n",
        "  print(f\"The maximum length of {c} column is {i}\")"
      ],
      "execution_count": null,
      "outputs": [
        {
          "output_type": "stream",
          "name": "stdout",
          "text": [
            "The maximum length of title_en column is 163\n",
            "The maximum length of description_en column is 3344\n",
            "The maximum length of label_title column is 4\n",
            "The maximum length of subcategory_title_en column is 70\n",
            "The maximum length of subcategory_description_en column is 70\n"
          ]
        }
      ]
    },
    {
      "cell_type": "markdown",
      "metadata": {
        "id": "RSRWu9JJoZlT"
      },
      "source": [
        "looks like description_en is too long, we need to handle it , since our model can process up to 128 tabs"
      ]
    },
    {
      "cell_type": "code",
      "metadata": {
        "id": "chbI-DglMms2"
      },
      "source": [
        "train_df[\"length\"] = train_df.description_en.apply(lambda x: len(x))"
      ],
      "execution_count": null,
      "outputs": []
    },
    {
      "cell_type": "code",
      "metadata": {
        "id": "eMoydy4lOJLh",
        "colab": {
          "base_uri": "https://localhost:8080/"
        },
        "outputId": "ce7287d9-f0d0-4ac4-f354-49d527218f31"
      },
      "source": [
        "# 94.7% of the records length's is 1000 or less, about 50% of the records length's is 321 or less\n",
        "print(train_df[\"length\"].describe())\n",
        "print(\"The percentile of length 1000: \", stats.percentileofscore(train_df[\"length\"], 128))\n",
        "print(\"The percentile of length 1000: \", stats.percentileofscore(train_df[\"length\"], 1000))\n",
        "print(f'The length in the 90th percentile: {train_df[\"length\"].quantile(0.90):.2f}')"
      ],
      "execution_count": null,
      "outputs": [
        {
          "output_type": "stream",
          "name": "stdout",
          "text": [
            "count   1,000.00\n",
            "mean      395.45\n",
            "std       330.43\n",
            "min         6.00\n",
            "25%       176.00\n",
            "50%       321.00\n",
            "75%       506.25\n",
            "max     3,344.00\n",
            "Name: length, dtype: float64\n",
            "The percentile of length 1000:  15.55\n",
            "The percentile of length 1000:  94.7\n",
            "The length in the 90th percentile: 750.30\n"
          ]
        }
      ]
    },
    {
      "cell_type": "code",
      "metadata": {
        "id": "8wzcgdbk9t60",
        "colab": {
          "base_uri": "https://localhost:8080/"
        },
        "outputId": "40cc3f9b-7b27-4431-cedb-40792e67d734"
      },
      "source": [
        "# check if the labels in the various datasets are balanced\n",
        "print(f\"% of same within the train set is: {(len(train_df[train_df.label==1])/len(train_df))*100:.1f}% out of {len(train_df)} records\")\n",
        "print(f\"% of same within the validation set is: {(len(val_df[val_df.label==1])/len(val_df))*100:.1f}% out of {len(val_df)} records\")\n",
        "print(f\"% of same within the test set is: {(len(test_df[test_df.label==1])/len(test_df))*100:.1f}% out of {len(test_df)} records\")"
      ],
      "execution_count": null,
      "outputs": [
        {
          "output_type": "stream",
          "name": "stdout",
          "text": [
            "% of same within the train set is: 52.1% out of 1000 records\n",
            "% of same within the validation set is: 54.0% out of 100 records\n",
            "% of same within the test set is: 54.0% out of 100 records\n"
          ]
        }
      ]
    },
    {
      "cell_type": "markdown",
      "metadata": {
        "id": "J8dQaMucA7bL"
      },
      "source": [
        "About 83% of the data is for train, 8% for validation and 8% for test.\n",
        "<br>\n",
        "The labels looks balanced within each data set."
      ]
    },
    {
      "cell_type": "markdown",
      "metadata": {
        "id": "RPTf9anjPyr2"
      },
      "source": [
        "## Define callback routine"
      ]
    },
    {
      "cell_type": "code",
      "metadata": {
        "id": "HrOPmgd3Pyr4"
      },
      "source": [
        "# The callback here is defined to track the loss improvement during the training\n",
        "def callback(score, epoch, steps):\n",
        "    print (f\"The evaluation score after epoch {epoch}: {score}\")"
      ],
      "execution_count": null,
      "outputs": []
    },
    {
      "cell_type": "markdown",
      "metadata": {
        "id": "gKhipvBGPyr7"
      },
      "source": [
        "## Preprocess data"
      ]
    },
    {
      "cell_type": "code",
      "metadata": {
        "id": "L5QMlirK6HoR"
      },
      "source": [
        "# Convert the labels to float so that the model can process it\n",
        "train_df.label= train_df.label.astype(\"float64\")\n",
        "val_df.label= val_df.label.astype(\"float64\")\n",
        "test_df.label= test_df.label.astype(\"float64\")"
      ],
      "execution_count": null,
      "outputs": []
    },
    {
      "cell_type": "markdown",
      "metadata": {
        "id": "Ml15eMEKqLoL"
      },
      "source": [
        "We found that description_en is too long, let's summarize it before the STS task"
      ]
    },
    {
      "cell_type": "code",
      "metadata": {
        "id": "6rUpDjjxcVcS"
      },
      "source": [
        "# compute degree_centrality_scores for text-summarization\n",
        "\"\"\"\n",
        "LexRank implementation\n",
        "Source: https://github.com/UKPLab/sentence-transformers/blob/master/examples/applications/text-summarization/LexRank.py\n",
        "\"\"\"\n",
        "\n",
        "from scipy.sparse.csgraph import connected_components\n",
        "\n",
        "def degree_centrality_scores(\n",
        "    similarity_matrix,\n",
        "    threshold=None,\n",
        "    increase_power=True):\n",
        "    if not (\n",
        "        threshold is None\n",
        "        or isinstance(threshold, float)\n",
        "        and 0 <= threshold < 1):\n",
        "        raise ValueError(\n",
        "            '\\'threshold\\' should be a floating-point number '\n",
        "            'from the interval [0, 1) or None')\n",
        "\n",
        "    if threshold is None:\n",
        "        markov_matrix = create_markov_matrix(similarity_matrix)\n",
        "\n",
        "    else:\n",
        "        markov_matrix = create_markov_matrix_discrete(\n",
        "            similarity_matrix,\n",
        "            threshold)\n",
        "\n",
        "    scores = stationary_distribution(\n",
        "        markov_matrix,\n",
        "        increase_power=increase_power,\n",
        "        normalized=False)\n",
        "\n",
        "    return scores\n",
        "\n",
        "\n",
        "def _power_method(transition_matrix, increase_power=True):\n",
        "    eigenvector = np.ones(len(transition_matrix))\n",
        "\n",
        "    if len(eigenvector) == 1:\n",
        "        return eigenvector\n",
        "\n",
        "    transition = transition_matrix.transpose()\n",
        "\n",
        "    while True:\n",
        "        eigenvector_next = np.dot(transition, eigenvector)\n",
        "\n",
        "        if np.allclose(eigenvector_next, eigenvector):\n",
        "            return eigenvector_next\n",
        "\n",
        "        eigenvector = eigenvector_next\n",
        "\n",
        "        if increase_power:\n",
        "            transition = np.dot(transition, transition)\n",
        "\n",
        "\n",
        "def connected_nodes(matrix):\n",
        "    _, labels = connected_components(matrix)\n",
        "\n",
        "    groups = []\n",
        "\n",
        "    for tag in np.unique(labels):\n",
        "        group = np.where(labels == tag)[0]\n",
        "        groups.append(group)\n",
        "\n",
        "    return groups\n",
        "\n",
        "\n",
        "def create_markov_matrix(weights_matrix):\n",
        "    n_1, n_2 = weights_matrix.shape\n",
        "    if n_1 != n_2:\n",
        "        raise ValueError('\\'weights_matrix\\' should be square')\n",
        "\n",
        "    row_sum = weights_matrix.sum(axis=1, keepdims=True)\n",
        "\n",
        "    return weights_matrix / row_sum\n",
        "\n",
        "\n",
        "def create_markov_matrix_discrete(weights_matrix, threshold):\n",
        "    discrete_weights_matrix = np.zeros(weights_matrix.shape)\n",
        "    ixs = np.where(weights_matrix >= threshold)\n",
        "    discrete_weights_matrix[ixs] = 1\n",
        "\n",
        "    return create_markov_matrix(discrete_weights_matrix)\n",
        "\n",
        "\n",
        "def graph_nodes_clusters(transition_matrix, increase_power=True):\n",
        "    clusters = connected_nodes(transition_matrix)\n",
        "    clusters.sort(key=len, reverse=True)\n",
        "\n",
        "    centroid_scores = []\n",
        "\n",
        "    for group in clusters:\n",
        "        t_matrix = transition_matrix[np.ix_(group, group)]\n",
        "        eigenvector = _power_method(t_matrix, increase_power=increase_power)\n",
        "        centroid_scores.append(eigenvector / len(group))\n",
        "\n",
        "    return clusters, centroid_scores\n",
        "\n",
        "\n",
        "def stationary_distribution(\n",
        "    transition_matrix,\n",
        "    increase_power=True,\n",
        "    normalized=True,):\n",
        "    n_1, n_2 = transition_matrix.shape\n",
        "    if n_1 != n_2:\n",
        "        raise ValueError('\\'transition_matrix\\' should be square')\n",
        "\n",
        "    distribution = np.zeros(n_1)\n",
        "\n",
        "    grouped_indices = connected_nodes(transition_matrix)\n",
        "\n",
        "    for group in grouped_indices:\n",
        "        t_matrix = transition_matrix[np.ix_(group, group)]\n",
        "        eigenvector = _power_method(t_matrix, increase_power=increase_power)\n",
        "        distribution[group] = eigenvector\n",
        "\n",
        "    if normalized:\n",
        "        distribution /= n_1\n",
        "\n",
        "    return distribution"
      ],
      "execution_count": null,
      "outputs": []
    },
    {
      "cell_type": "code",
      "metadata": {
        "id": "53hVVKb2c4xk"
      },
      "source": [
        "# Create an extractive summarization of a long job description.\n",
        "def summarization(df, model):\n",
        "  #Split the document into sentences and compute the sentence embeddings\n",
        "  df[\"description_sentences\"] = df.description_en.apply(lambda x: nltk.sent_tokenize(x))\n",
        "  #Compute the pair-wise cosine similarities\n",
        "  df[\"embeddings\"] = df.description_sentences.apply(lambda x: model.encode(x, convert_to_tensor=True))\n",
        "  #Compute the centrality for each sentence\n",
        "  df[\"centrality_scores\"] = df.embeddings.apply(lambda x: degree_centrality_scores(util.cos_sim(x, x).cpu().numpy()))\n",
        "  # Argsort so that the first element is the sentence with the highest score\n",
        "  df[\"centrality_scores\"]=df.centrality_scores.apply(lambda x: np.argsort(-x))\n",
        "  #5 sentences with the highest scores\n",
        "  df[\"description_summary\"] = df[[\"description_sentences\", \"centrality_scores\"]].apply(lambda x: [x.description_sentences[i] for i in x.centrality_scores[:5]],axis=1)\n",
        "  df[\"embeddings_summary\"] = df[[\"embeddings\", \"centrality_scores\"]].apply(lambda x: [x.embeddings[i] for i in x.centrality_scores[:5]],axis=1)\n",
        "  return (df)"
      ],
      "execution_count": null,
      "outputs": []
    },
    {
      "cell_type": "code",
      "metadata": {
        "id": "yDaRNViZqk1m"
      },
      "source": [
        "# Execute summarization fot the three datasets\n",
        "train_df = summarization(train_df, model)\n",
        "val_df = summarization(val_df, model)\n",
        "test_df = summarization(test_df, model)"
      ],
      "execution_count": null,
      "outputs": []
    },
    {
      "cell_type": "code",
      "metadata": {
        "id": "fC_0gMw-Pyr-"
      },
      "source": [
        "# prepare the data to the model\n",
        "input_train_examples_list = train_df[[\"title_en\", \"description_summary\", \"label\"]].apply(lambda x: InputExample(texts=[x['title_en'], str(x['description_summary'])], label=torch.full([1], x[\"label\"], dtype=torch.float)),axis=1)\n",
        "input_train_examples_list=list(input_train_examples_list)\n",
        "input_val_examples_list = val_df[[\"title_en\", \"description_summary\", \"label\"]].apply(lambda x: InputExample(texts=[x['title_en'], str(x['description_summary'])], label=torch.full([1], x[\"label\"], dtype=torch.float)),axis=1)\n",
        "input_val_examples_list=list(input_val_examples_list)\n",
        "train_dataloader = DataLoader(input_train_examples_list, shuffle=True, batch_size=16)\n",
        "\n",
        "# define the loss function\n",
        "train_loss = losses.CosineSimilarityLoss(model=model)\n",
        "\n",
        "scores = val_df['label'].to_list()\n",
        "# define the evaluator to the model\n",
        "evaluator = evaluation.EmbeddingSimilarityEvaluator.from_input_examples(input_val_examples_list)\n",
        "\n"
      ],
      "execution_count": null,
      "outputs": []
    },
    {
      "cell_type": "markdown",
      "metadata": {
        "id": "zJRN1UzYPyr_"
      },
      "source": [
        "### Train the model"
      ]
    },
    {
      "cell_type": "code",
      "metadata": {
        "id": "mZWK61ZmPysB",
        "colab": {
          "base_uri": "https://localhost:8080/",
          "height": 1000,
          "referenced_widgets": [
            "3255403f792e4a89a7ffc4b80765dccb",
            "275d4a4fffae43b1b14d5817823cbb64",
            "c1b6e2c205444093bffbd164dc903ba1",
            "5b52bf1d600d40f0a9d9aef322f355f4",
            "0933e89837ad42bc942f25986c72848f",
            "35defa43e0a34d7b97a4d03afc3cff79",
            "bf8db98a00e7466e8e0a623452c7e0b3",
            "cb5ec68e6ab546b7916904a80ae7a544",
            "a098557e8ca44fcfb4ca3753608da2c0",
            "0d1eb5676c254e71b55cc8563d719b2e",
            "0e3423db56a34c31b9f18fa85a0a2401",
            "da039ee09be34ad98f177bacf47aa710",
            "db8fbce40bc94e2d839d9218b8f059e1",
            "7b1aa937070d4f448d11c852aa843b95",
            "c1d1969565cf4c839a8c146427202a04",
            "782cbaaf815c4e0aa5cca9fd2a363197",
            "a69c04dfdb9c457a886e349594bbe776",
            "9354a47105f841308eef52a0318205db",
            "7a01859bf0f9434c8ff37c4782cb9a14",
            "aa31499e95c34dbb8e8407ae585d1f5d",
            "6b2fa13270fe4908bded4bd6bc812d53",
            "7275bce12e0b4f96b33cddf696012f15",
            "c51d9c0417a4465485cc73c5b0f617ab",
            "cd669f1f40ec416d8a506aa1791bee49",
            "2fbb508cb19d4a3988fc4859e8c11a03",
            "c7f2ad0809964d35a38bce974949e9be",
            "eb8f3ce096c44b0f9309a92a6638ff8c",
            "86981204e9a34748b909a053e46345fc",
            "683326ea93c540b38d0f6d7ed144cfea",
            "72b8998955c1480caa4c57030e9909fc",
            "c326d3751eed472fb5abd6efcfb2b332",
            "acfdee8711a045a7a884fc48f12f1dfe",
            "53e5b3a738034c449226544d50a196b0",
            "0dc34b4830234b63b3271103940439af",
            "07d11c8d0d3b4d5aa096ee638cbac2ab",
            "55e4d56b410e43128640b30bd3b5f3e2",
            "ae9a3c7042474ec0a2099917a917ed57",
            "25e6b7a215ef4d0b8eaf75b9a9d37fae",
            "ac8f1d730b5f41d9ba56cfc27dd056ff",
            "fbf79c9ef37c4080b363b3f15647b9ff",
            "2e5186f00c644aefb05a3c2cbf9f4be9",
            "0bcb36c3fd4d4b6da0413018003b8f66",
            "48f0f1b3fc1948dea193b407196efe48",
            "91cdfc82e25f4007b06d56ac7c3ea2b2",
            "761685d3878a4e85990a5e1d7487e541",
            "1f17236700ca4972b4255c96406849bd",
            "1f3ce0935eaa4352a6cdeb18b7e74825",
            "bdd5dedf1b7444e4963a779049c73bee",
            "f59f838f137d4504999e2cd57509bbc4",
            "8023082c8d6b4ebdb9b0ec6259ed4ac4",
            "bf1cb2f9deb847378bca4824b4aa626d",
            "4038362519df4f2eb5d13b8c5e0ab71f",
            "2f482311142547ff923fb5f1edb10b72",
            "639734e7a4ba406bae949c3b7efc2fb8",
            "01cbbbee09174053910453fc160e485a",
            "e447d78dcf014df18b295e930282dc77",
            "df01d5067bd2440db8d2242d32f93072",
            "d1fe82ba039b47db89308e2807185770",
            "c3a61d71a69942a896b8824e026e1e29",
            "685bfc72a2d5496ab950eec944529c72",
            "2c145a528d1041c2b74e19668bf3e400",
            "92134d9e387a43378a787ff0dbe8f5a4",
            "03f5023fa8ab4d8ba2e582200358c8b0",
            "d21fb2e7c7f74c7a948f47f89a530b84",
            "399c3071fdd740cbae935c9d0919daf4",
            "97324d1dc62f4d2c968f443c6547821b",
            "34fd86ff7510479d96f4f37dba9d87e1",
            "cff132fa19dd42448d13eb5f080c2764",
            "e36caafd1efb42d7bb294c62a1933cca",
            "2cd71e6011974499bd223db4865c7491",
            "28951d6dc27a4d0b90f38538cf46975a",
            "85ade33d08e0466881b60bdc9f43ebbd",
            "a3b907c4d8dd40e38d04b14f907f9de4",
            "a2b532bafa38401483108879d4cc6b6c",
            "a47336204c1841468a4cf25ae3286061",
            "2d6da48d740344d384b362ba1608a9c7",
            "851d97b78ba14fd8bd65e37edafdaee2",
            "c8589f4363324e8b88f64816606fae77",
            "86dc208a00084060ade5b1e012fe7aa7",
            "71b665a9cb084078be96e1cbe05d68d9",
            "2e3bdd7115c7459096912be37f6d8a4a",
            "a7ce3cddbb1845cdb6830c37ebd5f99b",
            "261d1118318146ab9ad0696d947c9b17",
            "dac2bfb533ba445e9cb7c89fec1c5036",
            "b09b00e036c34c2abed991d36a492e22",
            "0c79d781f1424e67834c1935bdfc4f39",
            "f3095b7496d9420f85010f91e5aab0aa",
            "31aa0fcdc0d94e7e8848f1d4c1626264",
            "b2360b807d054ae78fb7bb8fb37d6ee0",
            "e7642668a3484346aa6b5ce921172b9b",
            "9a9a47a925d64578a31eae1af5f33ae4",
            "c7e90b40174248fe81bde6505f875478",
            "dbc24ba5416242fd9219b15f5b8e4710",
            "acd695f59e7342e3b155b2d7218a53c3",
            "4165e2e6875a4b14a534974956e173bf",
            "5c389e80e7bd4ad2bd3cb58898d9f36d",
            "1222efa483f34284913ab53e8e7e0b90",
            "007076793cf6447ebf32ab95aa630ce0",
            "ace9fcb4094f4ba4bd686b23d45a0eef",
            "c6511324d7ef4c6188d62126f1b03365",
            "3f46ee71f2104cc1ab73e915491cb233",
            "e552e02a92714294a5c8675fff9455b5",
            "d967703627a040c29d673724e81280fc",
            "a18585a4f7684193907c744292744b36",
            "1fd9c3e6d6a34975b6461272c0d57a6c",
            "dc87d5fc05974461a60faba0f6a0aff0",
            "97ac6acd7f9645979773d47ead3d0950",
            "3b1d0db8b03a43dbbe8665aeeaaf411e",
            "355c914285a0458298e37af2517d59b1",
            "ef821df2e3fb4951aafe9d540b390658",
            "24430ffae79f46b0aa868337e3628561",
            "260a145c80da4b18b83d6cbdb8a4d903",
            "7bafc8e2962645a78ceceaa81f0eac6c",
            "38cacf9355f5473d85ee3cf501c7e8c4",
            "13d50ad981d94a5dab2371d360468bde",
            "586395a26069439c9d9825a9403c30be",
            "327b37dc99e848f59b66d9932685f013",
            "682510bc60fa43e894f60d450b6a62c0",
            "a9eb1168a8554c6597e715415c7be77d",
            "0504be6a1a9a43c5bdbbec58b17a5ad5",
            "478592ff0f7a4bc39ae105f5dbe85327"
          ]
        },
        "outputId": "ff19a0af-0b5b-41df-ecb0-18a565c1de1b"
      },
      "source": [
        "model.fit(train_objectives=[(train_dataloader, train_loss)],\n",
        "          evaluator=evaluator,\n",
        "          epochs=100, callback=callback,\n",
        "          output_path=model_path,save_best_model=True)"
      ],
      "execution_count": null,
      "outputs": [
        {
          "output_type": "display_data",
          "data": {
            "application/vnd.jupyter.widget-view+json": {
              "model_id": "3255403f792e4a89a7ffc4b80765dccb",
              "version_minor": 0,
              "version_major": 2
            },
            "text/plain": [
              "Epoch:   0%|          | 0/100 [00:00<?, ?it/s]"
            ]
          },
          "metadata": {}
        },
        {
          "output_type": "display_data",
          "data": {
            "application/vnd.jupyter.widget-view+json": {
              "model_id": "da039ee09be34ad98f177bacf47aa710",
              "version_minor": 0,
              "version_major": 2
            },
            "text/plain": [
              "Iteration:   0%|          | 0/63 [00:00<?, ?it/s]"
            ]
          },
          "metadata": {}
        },
        {
          "output_type": "stream",
          "name": "stdout",
          "text": [
            "The evaluation score after epoch 0: 0.651292585348354\n"
          ]
        },
        {
          "output_type": "display_data",
          "data": {
            "application/vnd.jupyter.widget-view+json": {
              "model_id": "c51d9c0417a4465485cc73c5b0f617ab",
              "version_minor": 0,
              "version_major": 2
            },
            "text/plain": [
              "Iteration:   0%|          | 0/63 [00:00<?, ?it/s]"
            ]
          },
          "metadata": {}
        },
        {
          "output_type": "stream",
          "name": "stdout",
          "text": [
            "The evaluation score after epoch 1: 0.6554630821595494\n"
          ]
        },
        {
          "output_type": "display_data",
          "data": {
            "application/vnd.jupyter.widget-view+json": {
              "model_id": "cd669f1f40ec416d8a506aa1791bee49",
              "version_minor": 0,
              "version_major": 2
            },
            "text/plain": [
              "Iteration:   0%|          | 0/63 [00:00<?, ?it/s]"
            ]
          },
          "metadata": {}
        },
        {
          "output_type": "stream",
          "name": "stdout",
          "text": [
            "The evaluation score after epoch 2: 0.6603286617726107\n"
          ]
        },
        {
          "output_type": "display_data",
          "data": {
            "application/vnd.jupyter.widget-view+json": {
              "model_id": "2fbb508cb19d4a3988fc4859e8c11a03",
              "version_minor": 0,
              "version_major": 2
            },
            "text/plain": [
              "Iteration:   0%|          | 0/63 [00:00<?, ?it/s]"
            ]
          },
          "metadata": {}
        },
        {
          "output_type": "stream",
          "name": "stdout",
          "text": [
            "The evaluation score after epoch 3: 0.6749254006117948\n"
          ]
        },
        {
          "output_type": "display_data",
          "data": {
            "application/vnd.jupyter.widget-view+json": {
              "model_id": "c7f2ad0809964d35a38bce974949e9be",
              "version_minor": 0,
              "version_major": 2
            },
            "text/plain": [
              "Iteration:   0%|          | 0/63 [00:00<?, ?it/s]"
            ]
          },
          "metadata": {}
        },
        {
          "output_type": "stream",
          "name": "stdout",
          "text": [
            "The evaluation score after epoch 4: 0.688131973847247\n"
          ]
        },
        {
          "output_type": "display_data",
          "data": {
            "application/vnd.jupyter.widget-view+json": {
              "model_id": "eb8f3ce096c44b0f9309a92a6638ff8c",
              "version_minor": 0,
              "version_major": 2
            },
            "text/plain": [
              "Iteration:   0%|          | 0/63 [00:00<?, ?it/s]"
            ]
          },
          "metadata": {}
        },
        {
          "output_type": "stream",
          "name": "stdout",
          "text": [
            "The evaluation score after epoch 5: 0.7020336298845652\n"
          ]
        },
        {
          "output_type": "display_data",
          "data": {
            "application/vnd.jupyter.widget-view+json": {
              "model_id": "86981204e9a34748b909a053e46345fc",
              "version_minor": 0,
              "version_major": 2
            },
            "text/plain": [
              "Iteration:   0%|          | 0/63 [00:00<?, ?it/s]"
            ]
          },
          "metadata": {}
        },
        {
          "output_type": "stream",
          "name": "stdout",
          "text": [
            "The evaluation score after epoch 6: 0.7124598719125537\n"
          ]
        },
        {
          "output_type": "display_data",
          "data": {
            "application/vnd.jupyter.widget-view+json": {
              "model_id": "683326ea93c540b38d0f6d7ed144cfea",
              "version_minor": 0,
              "version_major": 2
            },
            "text/plain": [
              "Iteration:   0%|          | 0/63 [00:00<?, ?it/s]"
            ]
          },
          "metadata": {}
        },
        {
          "output_type": "stream",
          "name": "stdout",
          "text": [
            "The evaluation score after epoch 7: 0.7235811967424082\n"
          ]
        },
        {
          "output_type": "display_data",
          "data": {
            "application/vnd.jupyter.widget-view+json": {
              "model_id": "72b8998955c1480caa4c57030e9909fc",
              "version_minor": 0,
              "version_major": 2
            },
            "text/plain": [
              "Iteration:   0%|          | 0/63 [00:00<?, ?it/s]"
            ]
          },
          "metadata": {}
        },
        {
          "output_type": "stream",
          "name": "stdout",
          "text": [
            "The evaluation score after epoch 8: 0.7326172731666649\n"
          ]
        },
        {
          "output_type": "display_data",
          "data": {
            "application/vnd.jupyter.widget-view+json": {
              "model_id": "c326d3751eed472fb5abd6efcfb2b332",
              "version_minor": 0,
              "version_major": 2
            },
            "text/plain": [
              "Iteration:   0%|          | 0/63 [00:00<?, ?it/s]"
            ]
          },
          "metadata": {}
        },
        {
          "output_type": "stream",
          "name": "stdout",
          "text": [
            "The evaluation score after epoch 9: 0.7458238464021171\n"
          ]
        },
        {
          "output_type": "display_data",
          "data": {
            "application/vnd.jupyter.widget-view+json": {
              "model_id": "acfdee8711a045a7a884fc48f12f1dfe",
              "version_minor": 0,
              "version_major": 2
            },
            "text/plain": [
              "Iteration:   0%|          | 0/63 [00:00<?, ?it/s]"
            ]
          },
          "metadata": {}
        },
        {
          "output_type": "stream",
          "name": "stdout",
          "text": [
            "The evaluation score after epoch 10: 0.7520795916189105\n"
          ]
        },
        {
          "output_type": "display_data",
          "data": {
            "application/vnd.jupyter.widget-view+json": {
              "model_id": "53e5b3a738034c449226544d50a196b0",
              "version_minor": 0,
              "version_major": 2
            },
            "text/plain": [
              "Iteration:   0%|          | 0/63 [00:00<?, ?it/s]"
            ]
          },
          "metadata": {}
        },
        {
          "output_type": "stream",
          "name": "stdout",
          "text": [
            "The evaluation score after epoch 11: 0.7569451712319716\n"
          ]
        },
        {
          "output_type": "display_data",
          "data": {
            "application/vnd.jupyter.widget-view+json": {
              "model_id": "0dc34b4830234b63b3271103940439af",
              "version_minor": 0,
              "version_major": 2
            },
            "text/plain": [
              "Iteration:   0%|          | 0/63 [00:00<?, ?it/s]"
            ]
          },
          "metadata": {}
        },
        {
          "output_type": "stream",
          "name": "stdout",
          "text": [
            "The evaluation score after epoch 12: 0.7604205852413012\n"
          ]
        },
        {
          "output_type": "display_data",
          "data": {
            "application/vnd.jupyter.widget-view+json": {
              "model_id": "07d11c8d0d3b4d5aa096ee638cbac2ab",
              "version_minor": 0,
              "version_major": 2
            },
            "text/plain": [
              "Iteration:   0%|          | 0/63 [00:00<?, ?it/s]"
            ]
          },
          "metadata": {}
        },
        {
          "output_type": "stream",
          "name": "stdout",
          "text": [
            "The evaluation score after epoch 13: 0.7666763304580945\n"
          ]
        },
        {
          "output_type": "display_data",
          "data": {
            "application/vnd.jupyter.widget-view+json": {
              "model_id": "55e4d56b410e43128640b30bd3b5f3e2",
              "version_minor": 0,
              "version_major": 2
            },
            "text/plain": [
              "Iteration:   0%|          | 0/63 [00:00<?, ?it/s]"
            ]
          },
          "metadata": {}
        },
        {
          "output_type": "stream",
          "name": "stdout",
          "text": [
            "The evaluation score after epoch 14: 0.7694566616655579\n"
          ]
        },
        {
          "output_type": "display_data",
          "data": {
            "application/vnd.jupyter.widget-view+json": {
              "model_id": "ae9a3c7042474ec0a2099917a917ed57",
              "version_minor": 0,
              "version_major": 2
            },
            "text/plain": [
              "Iteration:   0%|          | 0/63 [00:00<?, ?it/s]"
            ]
          },
          "metadata": {}
        },
        {
          "output_type": "stream",
          "name": "stdout",
          "text": [
            "The evaluation score after epoch 15: 0.7715419100711557\n"
          ]
        },
        {
          "output_type": "display_data",
          "data": {
            "application/vnd.jupyter.widget-view+json": {
              "model_id": "25e6b7a215ef4d0b8eaf75b9a9d37fae",
              "version_minor": 0,
              "version_major": 2
            },
            "text/plain": [
              "Iteration:   0%|          | 0/63 [00:00<?, ?it/s]"
            ]
          },
          "metadata": {}
        },
        {
          "output_type": "stream",
          "name": "stdout",
          "text": [
            "The evaluation score after epoch 16: 0.7750173240804853\n"
          ]
        },
        {
          "output_type": "display_data",
          "data": {
            "application/vnd.jupyter.widget-view+json": {
              "model_id": "ac8f1d730b5f41d9ba56cfc27dd056ff",
              "version_minor": 0,
              "version_major": 2
            },
            "text/plain": [
              "Iteration:   0%|          | 0/63 [00:00<?, ?it/s]"
            ]
          },
          "metadata": {}
        },
        {
          "output_type": "stream",
          "name": "stdout",
          "text": [
            "The evaluation score after epoch 17: 0.7729320756748875\n"
          ]
        },
        {
          "output_type": "display_data",
          "data": {
            "application/vnd.jupyter.widget-view+json": {
              "model_id": "fbf79c9ef37c4080b363b3f15647b9ff",
              "version_minor": 0,
              "version_major": 2
            },
            "text/plain": [
              "Iteration:   0%|          | 0/63 [00:00<?, ?it/s]"
            ]
          },
          "metadata": {}
        },
        {
          "output_type": "stream",
          "name": "stdout",
          "text": [
            "The evaluation score after epoch 18: 0.7784927380898149\n"
          ]
        },
        {
          "output_type": "display_data",
          "data": {
            "application/vnd.jupyter.widget-view+json": {
              "model_id": "2e5186f00c644aefb05a3c2cbf9f4be9",
              "version_minor": 0,
              "version_major": 2
            },
            "text/plain": [
              "Iteration:   0%|          | 0/63 [00:00<?, ?it/s]"
            ]
          },
          "metadata": {}
        },
        {
          "output_type": "stream",
          "name": "stdout",
          "text": [
            "The evaluation score after epoch 19: 0.7791878208916806\n"
          ]
        },
        {
          "output_type": "display_data",
          "data": {
            "application/vnd.jupyter.widget-view+json": {
              "model_id": "0bcb36c3fd4d4b6da0413018003b8f66",
              "version_minor": 0,
              "version_major": 2
            },
            "text/plain": [
              "Iteration:   0%|          | 0/63 [00:00<?, ?it/s]"
            ]
          },
          "metadata": {}
        },
        {
          "output_type": "stream",
          "name": "stdout",
          "text": [
            "The evaluation score after epoch 20: 0.784053400504742\n"
          ]
        },
        {
          "output_type": "display_data",
          "data": {
            "application/vnd.jupyter.widget-view+json": {
              "model_id": "48f0f1b3fc1948dea193b407196efe48",
              "version_minor": 0,
              "version_major": 2
            },
            "text/plain": [
              "Iteration:   0%|          | 0/63 [00:00<?, ?it/s]"
            ]
          },
          "metadata": {}
        },
        {
          "output_type": "stream",
          "name": "stdout",
          "text": [
            "The evaluation score after epoch 21: 0.784748483306608\n"
          ]
        },
        {
          "output_type": "display_data",
          "data": {
            "application/vnd.jupyter.widget-view+json": {
              "model_id": "91cdfc82e25f4007b06d56ac7c3ea2b2",
              "version_minor": 0,
              "version_major": 2
            },
            "text/plain": [
              "Iteration:   0%|          | 0/63 [00:00<?, ?it/s]"
            ]
          },
          "metadata": {}
        },
        {
          "output_type": "stream",
          "name": "stdout",
          "text": [
            "The evaluation score after epoch 22: 0.7826632349010102\n"
          ]
        },
        {
          "output_type": "display_data",
          "data": {
            "application/vnd.jupyter.widget-view+json": {
              "model_id": "761685d3878a4e85990a5e1d7487e541",
              "version_minor": 0,
              "version_major": 2
            },
            "text/plain": [
              "Iteration:   0%|          | 0/63 [00:00<?, ?it/s]"
            ]
          },
          "metadata": {}
        },
        {
          "output_type": "stream",
          "name": "stdout",
          "text": [
            "The evaluation score after epoch 23: 0.7833583177028762\n"
          ]
        },
        {
          "output_type": "display_data",
          "data": {
            "application/vnd.jupyter.widget-view+json": {
              "model_id": "1f17236700ca4972b4255c96406849bd",
              "version_minor": 0,
              "version_major": 2
            },
            "text/plain": [
              "Iteration:   0%|          | 0/63 [00:00<?, ?it/s]"
            ]
          },
          "metadata": {}
        },
        {
          "output_type": "stream",
          "name": "stdout",
          "text": [
            "The evaluation score after epoch 24: 0.7861386489103398\n"
          ]
        },
        {
          "output_type": "display_data",
          "data": {
            "application/vnd.jupyter.widget-view+json": {
              "model_id": "1f3ce0935eaa4352a6cdeb18b7e74825",
              "version_minor": 0,
              "version_major": 2
            },
            "text/plain": [
              "Iteration:   0%|          | 0/63 [00:00<?, ?it/s]"
            ]
          },
          "metadata": {}
        },
        {
          "output_type": "stream",
          "name": "stdout",
          "text": [
            "The evaluation score after epoch 25: 0.7875288145140716\n"
          ]
        },
        {
          "output_type": "display_data",
          "data": {
            "application/vnd.jupyter.widget-view+json": {
              "model_id": "bdd5dedf1b7444e4963a779049c73bee",
              "version_minor": 0,
              "version_major": 2
            },
            "text/plain": [
              "Iteration:   0%|          | 0/63 [00:00<?, ?it/s]"
            ]
          },
          "metadata": {}
        },
        {
          "output_type": "stream",
          "name": "stdout",
          "text": [
            "The evaluation score after epoch 26: 0.7854435661084739\n"
          ]
        },
        {
          "output_type": "display_data",
          "data": {
            "application/vnd.jupyter.widget-view+json": {
              "model_id": "f59f838f137d4504999e2cd57509bbc4",
              "version_minor": 0,
              "version_major": 2
            },
            "text/plain": [
              "Iteration:   0%|          | 0/63 [00:00<?, ?it/s]"
            ]
          },
          "metadata": {}
        },
        {
          "output_type": "stream",
          "name": "stdout",
          "text": [
            "The evaluation score after epoch 27: 0.784053400504742\n"
          ]
        },
        {
          "output_type": "display_data",
          "data": {
            "application/vnd.jupyter.widget-view+json": {
              "model_id": "8023082c8d6b4ebdb9b0ec6259ed4ac4",
              "version_minor": 0,
              "version_major": 2
            },
            "text/plain": [
              "Iteration:   0%|          | 0/63 [00:00<?, ?it/s]"
            ]
          },
          "metadata": {}
        },
        {
          "output_type": "stream",
          "name": "stdout",
          "text": [
            "The evaluation score after epoch 28: 0.7826632349010102\n"
          ]
        },
        {
          "output_type": "display_data",
          "data": {
            "application/vnd.jupyter.widget-view+json": {
              "model_id": "bf1cb2f9deb847378bca4824b4aa626d",
              "version_minor": 0,
              "version_major": 2
            },
            "text/plain": [
              "Iteration:   0%|          | 0/63 [00:00<?, ?it/s]"
            ]
          },
          "metadata": {}
        },
        {
          "output_type": "stream",
          "name": "stdout",
          "text": [
            "The evaluation score after epoch 29: 0.7826632349010102\n"
          ]
        },
        {
          "output_type": "display_data",
          "data": {
            "application/vnd.jupyter.widget-view+json": {
              "model_id": "4038362519df4f2eb5d13b8c5e0ab71f",
              "version_minor": 0,
              "version_major": 2
            },
            "text/plain": [
              "Iteration:   0%|          | 0/63 [00:00<?, ?it/s]"
            ]
          },
          "metadata": {}
        },
        {
          "output_type": "stream",
          "name": "stdout",
          "text": [
            "The evaluation score after epoch 30: 0.7826632349010102\n"
          ]
        },
        {
          "output_type": "display_data",
          "data": {
            "application/vnd.jupyter.widget-view+json": {
              "model_id": "2f482311142547ff923fb5f1edb10b72",
              "version_minor": 0,
              "version_major": 2
            },
            "text/plain": [
              "Iteration:   0%|          | 0/63 [00:00<?, ?it/s]"
            ]
          },
          "metadata": {}
        },
        {
          "output_type": "stream",
          "name": "stdout",
          "text": [
            "The evaluation score after epoch 31: 0.784053400504742\n"
          ]
        },
        {
          "output_type": "display_data",
          "data": {
            "application/vnd.jupyter.widget-view+json": {
              "model_id": "639734e7a4ba406bae949c3b7efc2fb8",
              "version_minor": 0,
              "version_major": 2
            },
            "text/plain": [
              "Iteration:   0%|          | 0/63 [00:00<?, ?it/s]"
            ]
          },
          "metadata": {}
        },
        {
          "output_type": "stream",
          "name": "stdout",
          "text": [
            "The evaluation score after epoch 32: 0.7819681520991443\n"
          ]
        },
        {
          "output_type": "display_data",
          "data": {
            "application/vnd.jupyter.widget-view+json": {
              "model_id": "01cbbbee09174053910453fc160e485a",
              "version_minor": 0,
              "version_major": 2
            },
            "text/plain": [
              "Iteration:   0%|          | 0/63 [00:00<?, ?it/s]"
            ]
          },
          "metadata": {}
        },
        {
          "output_type": "stream",
          "name": "stdout",
          "text": [
            "The evaluation score after epoch 33: 0.7826632349010102\n"
          ]
        },
        {
          "output_type": "display_data",
          "data": {
            "application/vnd.jupyter.widget-view+json": {
              "model_id": "e447d78dcf014df18b295e930282dc77",
              "version_minor": 0,
              "version_major": 2
            },
            "text/plain": [
              "Iteration:   0%|          | 0/63 [00:00<?, ?it/s]"
            ]
          },
          "metadata": {}
        },
        {
          "output_type": "stream",
          "name": "stdout",
          "text": [
            "The evaluation score after epoch 34: 0.784748483306608\n"
          ]
        },
        {
          "output_type": "display_data",
          "data": {
            "application/vnd.jupyter.widget-view+json": {
              "model_id": "df01d5067bd2440db8d2242d32f93072",
              "version_minor": 0,
              "version_major": 2
            },
            "text/plain": [
              "Iteration:   0%|          | 0/63 [00:00<?, ?it/s]"
            ]
          },
          "metadata": {}
        },
        {
          "output_type": "stream",
          "name": "stdout",
          "text": [
            "The evaluation score after epoch 35: 0.7812730692972785\n"
          ]
        },
        {
          "output_type": "display_data",
          "data": {
            "application/vnd.jupyter.widget-view+json": {
              "model_id": "d1fe82ba039b47db89308e2807185770",
              "version_minor": 0,
              "version_major": 2
            },
            "text/plain": [
              "Iteration:   0%|          | 0/63 [00:00<?, ?it/s]"
            ]
          },
          "metadata": {}
        },
        {
          "output_type": "stream",
          "name": "stdout",
          "text": [
            "The evaluation score after epoch 36: 0.7854435661084739\n"
          ]
        },
        {
          "output_type": "display_data",
          "data": {
            "application/vnd.jupyter.widget-view+json": {
              "model_id": "c3a61d71a69942a896b8824e026e1e29",
              "version_minor": 0,
              "version_major": 2
            },
            "text/plain": [
              "Iteration:   0%|          | 0/63 [00:00<?, ?it/s]"
            ]
          },
          "metadata": {}
        },
        {
          "output_type": "stream",
          "name": "stdout",
          "text": [
            "The evaluation score after epoch 37: 0.7854435661084739\n"
          ]
        },
        {
          "output_type": "display_data",
          "data": {
            "application/vnd.jupyter.widget-view+json": {
              "model_id": "685bfc72a2d5496ab950eec944529c72",
              "version_minor": 0,
              "version_major": 2
            },
            "text/plain": [
              "Iteration:   0%|          | 0/63 [00:00<?, ?it/s]"
            ]
          },
          "metadata": {}
        },
        {
          "output_type": "stream",
          "name": "stdout",
          "text": [
            "The evaluation score after epoch 38: 0.7819681520991443\n"
          ]
        },
        {
          "output_type": "display_data",
          "data": {
            "application/vnd.jupyter.widget-view+json": {
              "model_id": "2c145a528d1041c2b74e19668bf3e400",
              "version_minor": 0,
              "version_major": 2
            },
            "text/plain": [
              "Iteration:   0%|          | 0/63 [00:00<?, ?it/s]"
            ]
          },
          "metadata": {}
        },
        {
          "output_type": "stream",
          "name": "stdout",
          "text": [
            "The evaluation score after epoch 39: 0.7812730692972785\n"
          ]
        },
        {
          "output_type": "display_data",
          "data": {
            "application/vnd.jupyter.widget-view+json": {
              "model_id": "92134d9e387a43378a787ff0dbe8f5a4",
              "version_minor": 0,
              "version_major": 2
            },
            "text/plain": [
              "Iteration:   0%|          | 0/63 [00:00<?, ?it/s]"
            ]
          },
          "metadata": {}
        },
        {
          "output_type": "stream",
          "name": "stdout",
          "text": [
            "The evaluation score after epoch 40: 0.7875288145140716\n"
          ]
        },
        {
          "output_type": "display_data",
          "data": {
            "application/vnd.jupyter.widget-view+json": {
              "model_id": "03f5023fa8ab4d8ba2e582200358c8b0",
              "version_minor": 0,
              "version_major": 2
            },
            "text/plain": [
              "Iteration:   0%|          | 0/63 [00:00<?, ?it/s]"
            ]
          },
          "metadata": {}
        },
        {
          "output_type": "stream",
          "name": "stdout",
          "text": [
            "The evaluation score after epoch 41: 0.7861386489103398\n"
          ]
        },
        {
          "output_type": "display_data",
          "data": {
            "application/vnd.jupyter.widget-view+json": {
              "model_id": "d21fb2e7c7f74c7a948f47f89a530b84",
              "version_minor": 0,
              "version_major": 2
            },
            "text/plain": [
              "Iteration:   0%|          | 0/63 [00:00<?, ?it/s]"
            ]
          },
          "metadata": {}
        },
        {
          "output_type": "stream",
          "name": "stdout",
          "text": [
            "The evaluation score after epoch 42: 0.7896140629196694\n"
          ]
        },
        {
          "output_type": "display_data",
          "data": {
            "application/vnd.jupyter.widget-view+json": {
              "model_id": "399c3071fdd740cbae935c9d0919daf4",
              "version_minor": 0,
              "version_major": 2
            },
            "text/plain": [
              "Iteration:   0%|          | 0/63 [00:00<?, ?it/s]"
            ]
          },
          "metadata": {}
        },
        {
          "output_type": "stream",
          "name": "stdout",
          "text": [
            "The evaluation score after epoch 43: 0.7910042285234011\n"
          ]
        },
        {
          "output_type": "display_data",
          "data": {
            "application/vnd.jupyter.widget-view+json": {
              "model_id": "97324d1dc62f4d2c968f443c6547821b",
              "version_minor": 0,
              "version_major": 2
            },
            "text/plain": [
              "Iteration:   0%|          | 0/63 [00:00<?, ?it/s]"
            ]
          },
          "metadata": {}
        },
        {
          "output_type": "stream",
          "name": "stdout",
          "text": [
            "The evaluation score after epoch 44: 0.7910042285234011\n"
          ]
        },
        {
          "output_type": "display_data",
          "data": {
            "application/vnd.jupyter.widget-view+json": {
              "model_id": "34fd86ff7510479d96f4f37dba9d87e1",
              "version_minor": 0,
              "version_major": 2
            },
            "text/plain": [
              "Iteration:   0%|          | 0/63 [00:00<?, ?it/s]"
            ]
          },
          "metadata": {}
        },
        {
          "output_type": "stream",
          "name": "stdout",
          "text": [
            "The evaluation score after epoch 45: 0.7944796425327307\n"
          ]
        },
        {
          "output_type": "display_data",
          "data": {
            "application/vnd.jupyter.widget-view+json": {
              "model_id": "cff132fa19dd42448d13eb5f080c2764",
              "version_minor": 0,
              "version_major": 2
            },
            "text/plain": [
              "Iteration:   0%|          | 0/63 [00:00<?, ?it/s]"
            ]
          },
          "metadata": {}
        },
        {
          "output_type": "stream",
          "name": "stdout",
          "text": [
            "The evaluation score after epoch 46: 0.7944796425327307\n"
          ]
        },
        {
          "output_type": "display_data",
          "data": {
            "application/vnd.jupyter.widget-view+json": {
              "model_id": "e36caafd1efb42d7bb294c62a1933cca",
              "version_minor": 0,
              "version_major": 2
            },
            "text/plain": [
              "Iteration:   0%|          | 0/63 [00:00<?, ?it/s]"
            ]
          },
          "metadata": {}
        },
        {
          "output_type": "stream",
          "name": "stdout",
          "text": [
            "The evaluation score after epoch 47: 0.7937845597308647\n"
          ]
        },
        {
          "output_type": "display_data",
          "data": {
            "application/vnd.jupyter.widget-view+json": {
              "model_id": "2cd71e6011974499bd223db4865c7491",
              "version_minor": 0,
              "version_major": 2
            },
            "text/plain": [
              "Iteration:   0%|          | 0/63 [00:00<?, ?it/s]"
            ]
          },
          "metadata": {}
        },
        {
          "output_type": "stream",
          "name": "stdout",
          "text": [
            "The evaluation score after epoch 48: 0.7930894769289988\n"
          ]
        },
        {
          "output_type": "display_data",
          "data": {
            "application/vnd.jupyter.widget-view+json": {
              "model_id": "28951d6dc27a4d0b90f38538cf46975a",
              "version_minor": 0,
              "version_major": 2
            },
            "text/plain": [
              "Iteration:   0%|          | 0/63 [00:00<?, ?it/s]"
            ]
          },
          "metadata": {}
        },
        {
          "output_type": "stream",
          "name": "stdout",
          "text": [
            "The evaluation score after epoch 49: 0.7923943941271329\n"
          ]
        },
        {
          "output_type": "display_data",
          "data": {
            "application/vnd.jupyter.widget-view+json": {
              "model_id": "85ade33d08e0466881b60bdc9f43ebbd",
              "version_minor": 0,
              "version_major": 2
            },
            "text/plain": [
              "Iteration:   0%|          | 0/63 [00:00<?, ?it/s]"
            ]
          },
          "metadata": {}
        },
        {
          "output_type": "stream",
          "name": "stdout",
          "text": [
            "The evaluation score after epoch 50: 0.7889189801178035\n"
          ]
        },
        {
          "output_type": "display_data",
          "data": {
            "application/vnd.jupyter.widget-view+json": {
              "model_id": "a3b907c4d8dd40e38d04b14f907f9de4",
              "version_minor": 0,
              "version_major": 2
            },
            "text/plain": [
              "Iteration:   0%|          | 0/63 [00:00<?, ?it/s]"
            ]
          },
          "metadata": {}
        },
        {
          "output_type": "stream",
          "name": "stdout",
          "text": [
            "The evaluation score after epoch 51: 0.7896140629196694\n"
          ]
        },
        {
          "output_type": "display_data",
          "data": {
            "application/vnd.jupyter.widget-view+json": {
              "model_id": "a2b532bafa38401483108879d4cc6b6c",
              "version_minor": 0,
              "version_major": 2
            },
            "text/plain": [
              "Iteration:   0%|          | 0/63 [00:00<?, ?it/s]"
            ]
          },
          "metadata": {}
        },
        {
          "output_type": "stream",
          "name": "stdout",
          "text": [
            "The evaluation score after epoch 52: 0.7910042285234011\n"
          ]
        },
        {
          "output_type": "display_data",
          "data": {
            "application/vnd.jupyter.widget-view+json": {
              "model_id": "a47336204c1841468a4cf25ae3286061",
              "version_minor": 0,
              "version_major": 2
            },
            "text/plain": [
              "Iteration:   0%|          | 0/63 [00:00<?, ?it/s]"
            ]
          },
          "metadata": {}
        },
        {
          "output_type": "stream",
          "name": "stdout",
          "text": [
            "The evaluation score after epoch 53: 0.7875288145140716\n"
          ]
        },
        {
          "output_type": "display_data",
          "data": {
            "application/vnd.jupyter.widget-view+json": {
              "model_id": "2d6da48d740344d384b362ba1608a9c7",
              "version_minor": 0,
              "version_major": 2
            },
            "text/plain": [
              "Iteration:   0%|          | 0/63 [00:00<?, ?it/s]"
            ]
          },
          "metadata": {}
        },
        {
          "output_type": "stream",
          "name": "stdout",
          "text": [
            "The evaluation score after epoch 54: 0.7833583177028762\n"
          ]
        },
        {
          "output_type": "display_data",
          "data": {
            "application/vnd.jupyter.widget-view+json": {
              "model_id": "851d97b78ba14fd8bd65e37edafdaee2",
              "version_minor": 0,
              "version_major": 2
            },
            "text/plain": [
              "Iteration:   0%|          | 0/63 [00:00<?, ?it/s]"
            ]
          },
          "metadata": {}
        },
        {
          "output_type": "stream",
          "name": "stdout",
          "text": [
            "The evaluation score after epoch 55: 0.784053400504742\n"
          ]
        },
        {
          "output_type": "display_data",
          "data": {
            "application/vnd.jupyter.widget-view+json": {
              "model_id": "c8589f4363324e8b88f64816606fae77",
              "version_minor": 0,
              "version_major": 2
            },
            "text/plain": [
              "Iteration:   0%|          | 0/63 [00:00<?, ?it/s]"
            ]
          },
          "metadata": {}
        },
        {
          "output_type": "stream",
          "name": "stdout",
          "text": [
            "The evaluation score after epoch 56: 0.7812730692972785\n"
          ]
        },
        {
          "output_type": "display_data",
          "data": {
            "application/vnd.jupyter.widget-view+json": {
              "model_id": "86dc208a00084060ade5b1e012fe7aa7",
              "version_minor": 0,
              "version_major": 2
            },
            "text/plain": [
              "Iteration:   0%|          | 0/63 [00:00<?, ?it/s]"
            ]
          },
          "metadata": {}
        },
        {
          "output_type": "stream",
          "name": "stdout",
          "text": [
            "The evaluation score after epoch 57: 0.7916993113252669\n"
          ]
        },
        {
          "output_type": "display_data",
          "data": {
            "application/vnd.jupyter.widget-view+json": {
              "model_id": "71b665a9cb084078be96e1cbe05d68d9",
              "version_minor": 0,
              "version_major": 2
            },
            "text/plain": [
              "Iteration:   0%|          | 0/63 [00:00<?, ?it/s]"
            ]
          },
          "metadata": {}
        },
        {
          "output_type": "stream",
          "name": "stdout",
          "text": [
            "The evaluation score after epoch 58: 0.7819681520991443\n"
          ]
        },
        {
          "output_type": "display_data",
          "data": {
            "application/vnd.jupyter.widget-view+json": {
              "model_id": "2e3bdd7115c7459096912be37f6d8a4a",
              "version_minor": 0,
              "version_major": 2
            },
            "text/plain": [
              "Iteration:   0%|          | 0/63 [00:00<?, ?it/s]"
            ]
          },
          "metadata": {}
        },
        {
          "output_type": "stream",
          "name": "stdout",
          "text": [
            "The evaluation score after epoch 59: 0.7798829036935466\n"
          ]
        },
        {
          "output_type": "display_data",
          "data": {
            "application/vnd.jupyter.widget-view+json": {
              "model_id": "a7ce3cddbb1845cdb6830c37ebd5f99b",
              "version_minor": 0,
              "version_major": 2
            },
            "text/plain": [
              "Iteration:   0%|          | 0/63 [00:00<?, ?it/s]"
            ]
          },
          "metadata": {}
        },
        {
          "output_type": "stream",
          "name": "stdout",
          "text": [
            "The evaluation score after epoch 60: 0.7805779864954124\n"
          ]
        },
        {
          "output_type": "display_data",
          "data": {
            "application/vnd.jupyter.widget-view+json": {
              "model_id": "261d1118318146ab9ad0696d947c9b17",
              "version_minor": 0,
              "version_major": 2
            },
            "text/plain": [
              "Iteration:   0%|          | 0/63 [00:00<?, ?it/s]"
            ]
          },
          "metadata": {}
        },
        {
          "output_type": "stream",
          "name": "stdout",
          "text": [
            "The evaluation score after epoch 61: 0.7854435661084739\n"
          ]
        },
        {
          "output_type": "display_data",
          "data": {
            "application/vnd.jupyter.widget-view+json": {
              "model_id": "dac2bfb533ba445e9cb7c89fec1c5036",
              "version_minor": 0,
              "version_major": 2
            },
            "text/plain": [
              "Iteration:   0%|          | 0/63 [00:00<?, ?it/s]"
            ]
          },
          "metadata": {}
        },
        {
          "output_type": "stream",
          "name": "stdout",
          "text": [
            "The evaluation score after epoch 62: 0.784053400504742\n"
          ]
        },
        {
          "output_type": "display_data",
          "data": {
            "application/vnd.jupyter.widget-view+json": {
              "model_id": "b09b00e036c34c2abed991d36a492e22",
              "version_minor": 0,
              "version_major": 2
            },
            "text/plain": [
              "Iteration:   0%|          | 0/63 [00:00<?, ?it/s]"
            ]
          },
          "metadata": {}
        },
        {
          "output_type": "stream",
          "name": "stdout",
          "text": [
            "The evaluation score after epoch 63: 0.777797655287949\n"
          ]
        },
        {
          "output_type": "display_data",
          "data": {
            "application/vnd.jupyter.widget-view+json": {
              "model_id": "0c79d781f1424e67834c1935bdfc4f39",
              "version_minor": 0,
              "version_major": 2
            },
            "text/plain": [
              "Iteration:   0%|          | 0/63 [00:00<?, ?it/s]"
            ]
          },
          "metadata": {}
        },
        {
          "output_type": "stream",
          "name": "stdout",
          "text": [
            "The evaluation score after epoch 64: 0.7791878208916806\n"
          ]
        },
        {
          "output_type": "display_data",
          "data": {
            "application/vnd.jupyter.widget-view+json": {
              "model_id": "f3095b7496d9420f85010f91e5aab0aa",
              "version_minor": 0,
              "version_major": 2
            },
            "text/plain": [
              "Iteration:   0%|          | 0/63 [00:00<?, ?it/s]"
            ]
          },
          "metadata": {}
        },
        {
          "output_type": "stream",
          "name": "stdout",
          "text": [
            "The evaluation score after epoch 65: 0.7805779864954124\n"
          ]
        },
        {
          "output_type": "display_data",
          "data": {
            "application/vnd.jupyter.widget-view+json": {
              "model_id": "31aa0fcdc0d94e7e8848f1d4c1626264",
              "version_minor": 0,
              "version_major": 2
            },
            "text/plain": [
              "Iteration:   0%|          | 0/63 [00:00<?, ?it/s]"
            ]
          },
          "metadata": {}
        },
        {
          "output_type": "stream",
          "name": "stdout",
          "text": [
            "The evaluation score after epoch 66: 0.7896140629196694\n"
          ]
        },
        {
          "output_type": "display_data",
          "data": {
            "application/vnd.jupyter.widget-view+json": {
              "model_id": "b2360b807d054ae78fb7bb8fb37d6ee0",
              "version_minor": 0,
              "version_major": 2
            },
            "text/plain": [
              "Iteration:   0%|          | 0/63 [00:00<?, ?it/s]"
            ]
          },
          "metadata": {}
        },
        {
          "output_type": "stream",
          "name": "stdout",
          "text": [
            "The evaluation score after epoch 67: 0.7826632349010102\n"
          ]
        },
        {
          "output_type": "display_data",
          "data": {
            "application/vnd.jupyter.widget-view+json": {
              "model_id": "e7642668a3484346aa6b5ce921172b9b",
              "version_minor": 0,
              "version_major": 2
            },
            "text/plain": [
              "Iteration:   0%|          | 0/63 [00:00<?, ?it/s]"
            ]
          },
          "metadata": {}
        },
        {
          "output_type": "stream",
          "name": "stdout",
          "text": [
            "The evaluation score after epoch 68: 0.7896140629196694\n"
          ]
        },
        {
          "output_type": "display_data",
          "data": {
            "application/vnd.jupyter.widget-view+json": {
              "model_id": "9a9a47a925d64578a31eae1af5f33ae4",
              "version_minor": 0,
              "version_major": 2
            },
            "text/plain": [
              "Iteration:   0%|          | 0/63 [00:00<?, ?it/s]"
            ]
          },
          "metadata": {}
        },
        {
          "output_type": "stream",
          "name": "stdout",
          "text": [
            "The evaluation score after epoch 69: 0.7812730692972785\n"
          ]
        },
        {
          "output_type": "display_data",
          "data": {
            "application/vnd.jupyter.widget-view+json": {
              "model_id": "c7e90b40174248fe81bde6505f875478",
              "version_minor": 0,
              "version_major": 2
            },
            "text/plain": [
              "Iteration:   0%|          | 0/63 [00:00<?, ?it/s]"
            ]
          },
          "metadata": {}
        },
        {
          "output_type": "stream",
          "name": "stdout",
          "text": [
            "The evaluation score after epoch 70: 0.7805779864954124\n"
          ]
        },
        {
          "output_type": "display_data",
          "data": {
            "application/vnd.jupyter.widget-view+json": {
              "model_id": "dbc24ba5416242fd9219b15f5b8e4710",
              "version_minor": 0,
              "version_major": 2
            },
            "text/plain": [
              "Iteration:   0%|          | 0/63 [00:00<?, ?it/s]"
            ]
          },
          "metadata": {}
        },
        {
          "output_type": "stream",
          "name": "stdout",
          "text": [
            "The evaluation score after epoch 71: 0.784748483306608\n"
          ]
        },
        {
          "output_type": "display_data",
          "data": {
            "application/vnd.jupyter.widget-view+json": {
              "model_id": "acd695f59e7342e3b155b2d7218a53c3",
              "version_minor": 0,
              "version_major": 2
            },
            "text/plain": [
              "Iteration:   0%|          | 0/63 [00:00<?, ?it/s]"
            ]
          },
          "metadata": {}
        },
        {
          "output_type": "stream",
          "name": "stdout",
          "text": [
            "The evaluation score after epoch 72: 0.7791878208916806\n"
          ]
        },
        {
          "output_type": "display_data",
          "data": {
            "application/vnd.jupyter.widget-view+json": {
              "model_id": "4165e2e6875a4b14a534974956e173bf",
              "version_minor": 0,
              "version_major": 2
            },
            "text/plain": [
              "Iteration:   0%|          | 0/63 [00:00<?, ?it/s]"
            ]
          },
          "metadata": {}
        },
        {
          "output_type": "stream",
          "name": "stdout",
          "text": [
            "The evaluation score after epoch 73: 0.7812730692972785\n"
          ]
        },
        {
          "output_type": "display_data",
          "data": {
            "application/vnd.jupyter.widget-view+json": {
              "model_id": "5c389e80e7bd4ad2bd3cb58898d9f36d",
              "version_minor": 0,
              "version_major": 2
            },
            "text/plain": [
              "Iteration:   0%|          | 0/63 [00:00<?, ?it/s]"
            ]
          },
          "metadata": {}
        },
        {
          "output_type": "stream",
          "name": "stdout",
          "text": [
            "The evaluation score after epoch 74: 0.7819681520991443\n"
          ]
        },
        {
          "output_type": "display_data",
          "data": {
            "application/vnd.jupyter.widget-view+json": {
              "model_id": "1222efa483f34284913ab53e8e7e0b90",
              "version_minor": 0,
              "version_major": 2
            },
            "text/plain": [
              "Iteration:   0%|          | 0/63 [00:00<?, ?it/s]"
            ]
          },
          "metadata": {}
        },
        {
          "output_type": "stream",
          "name": "stdout",
          "text": [
            "The evaluation score after epoch 75: 0.7812730692972785\n"
          ]
        },
        {
          "output_type": "display_data",
          "data": {
            "application/vnd.jupyter.widget-view+json": {
              "model_id": "007076793cf6447ebf32ab95aa630ce0",
              "version_minor": 0,
              "version_major": 2
            },
            "text/plain": [
              "Iteration:   0%|          | 0/63 [00:00<?, ?it/s]"
            ]
          },
          "metadata": {}
        },
        {
          "output_type": "stream",
          "name": "stdout",
          "text": [
            "The evaluation score after epoch 76: 0.7861386489103398\n"
          ]
        },
        {
          "output_type": "display_data",
          "data": {
            "application/vnd.jupyter.widget-view+json": {
              "model_id": "ace9fcb4094f4ba4bd686b23d45a0eef",
              "version_minor": 0,
              "version_major": 2
            },
            "text/plain": [
              "Iteration:   0%|          | 0/63 [00:00<?, ?it/s]"
            ]
          },
          "metadata": {}
        },
        {
          "output_type": "stream",
          "name": "stdout",
          "text": [
            "The evaluation score after epoch 77: 0.7826632349010102\n"
          ]
        },
        {
          "output_type": "display_data",
          "data": {
            "application/vnd.jupyter.widget-view+json": {
              "model_id": "c6511324d7ef4c6188d62126f1b03365",
              "version_minor": 0,
              "version_major": 2
            },
            "text/plain": [
              "Iteration:   0%|          | 0/63 [00:00<?, ?it/s]"
            ]
          },
          "metadata": {}
        },
        {
          "output_type": "stream",
          "name": "stdout",
          "text": [
            "The evaluation score after epoch 78: 0.7743222412786194\n"
          ]
        },
        {
          "output_type": "display_data",
          "data": {
            "application/vnd.jupyter.widget-view+json": {
              "model_id": "3f46ee71f2104cc1ab73e915491cb233",
              "version_minor": 0,
              "version_major": 2
            },
            "text/plain": [
              "Iteration:   0%|          | 0/63 [00:00<?, ?it/s]"
            ]
          },
          "metadata": {}
        },
        {
          "output_type": "stream",
          "name": "stdout",
          "text": [
            "The evaluation score after epoch 79: 0.7819681520991443\n"
          ]
        },
        {
          "output_type": "display_data",
          "data": {
            "application/vnd.jupyter.widget-view+json": {
              "model_id": "e552e02a92714294a5c8675fff9455b5",
              "version_minor": 0,
              "version_major": 2
            },
            "text/plain": [
              "Iteration:   0%|          | 0/63 [00:00<?, ?it/s]"
            ]
          },
          "metadata": {}
        },
        {
          "output_type": "stream",
          "name": "stdout",
          "text": [
            "The evaluation score after epoch 80: 0.7805779864954124\n"
          ]
        },
        {
          "output_type": "display_data",
          "data": {
            "application/vnd.jupyter.widget-view+json": {
              "model_id": "d967703627a040c29d673724e81280fc",
              "version_minor": 0,
              "version_major": 2
            },
            "text/plain": [
              "Iteration:   0%|          | 0/63 [00:00<?, ?it/s]"
            ]
          },
          "metadata": {}
        },
        {
          "output_type": "stream",
          "name": "stdout",
          "text": [
            "The evaluation score after epoch 81: 0.7750173240804853\n"
          ]
        },
        {
          "output_type": "display_data",
          "data": {
            "application/vnd.jupyter.widget-view+json": {
              "model_id": "a18585a4f7684193907c744292744b36",
              "version_minor": 0,
              "version_major": 2
            },
            "text/plain": [
              "Iteration:   0%|          | 0/63 [00:00<?, ?it/s]"
            ]
          },
          "metadata": {}
        },
        {
          "output_type": "stream",
          "name": "stdout",
          "text": [
            "The evaluation score after epoch 82: 0.777797655287949\n"
          ]
        },
        {
          "output_type": "display_data",
          "data": {
            "application/vnd.jupyter.widget-view+json": {
              "model_id": "1fd9c3e6d6a34975b6461272c0d57a6c",
              "version_minor": 0,
              "version_major": 2
            },
            "text/plain": [
              "Iteration:   0%|          | 0/63 [00:00<?, ?it/s]"
            ]
          },
          "metadata": {}
        },
        {
          "output_type": "stream",
          "name": "stdout",
          "text": [
            "The evaluation score after epoch 83: 0.7729320756748875\n"
          ]
        },
        {
          "output_type": "display_data",
          "data": {
            "application/vnd.jupyter.widget-view+json": {
              "model_id": "dc87d5fc05974461a60faba0f6a0aff0",
              "version_minor": 0,
              "version_major": 2
            },
            "text/plain": [
              "Iteration:   0%|          | 0/63 [00:00<?, ?it/s]"
            ]
          },
          "metadata": {}
        },
        {
          "output_type": "stream",
          "name": "stdout",
          "text": [
            "The evaluation score after epoch 84: 0.784053400504742\n"
          ]
        },
        {
          "output_type": "display_data",
          "data": {
            "application/vnd.jupyter.widget-view+json": {
              "model_id": "97ac6acd7f9645979773d47ead3d0950",
              "version_minor": 0,
              "version_major": 2
            },
            "text/plain": [
              "Iteration:   0%|          | 0/63 [00:00<?, ?it/s]"
            ]
          },
          "metadata": {}
        },
        {
          "output_type": "stream",
          "name": "stdout",
          "text": [
            "The evaluation score after epoch 85: 0.7826632349010102\n"
          ]
        },
        {
          "output_type": "display_data",
          "data": {
            "application/vnd.jupyter.widget-view+json": {
              "model_id": "3b1d0db8b03a43dbbe8665aeeaaf411e",
              "version_minor": 0,
              "version_major": 2
            },
            "text/plain": [
              "Iteration:   0%|          | 0/63 [00:00<?, ?it/s]"
            ]
          },
          "metadata": {}
        },
        {
          "output_type": "stream",
          "name": "stdout",
          "text": [
            "The evaluation score after epoch 86: 0.777102572486083\n"
          ]
        },
        {
          "output_type": "display_data",
          "data": {
            "application/vnd.jupyter.widget-view+json": {
              "model_id": "355c914285a0458298e37af2517d59b1",
              "version_minor": 0,
              "version_major": 2
            },
            "text/plain": [
              "Iteration:   0%|          | 0/63 [00:00<?, ?it/s]"
            ]
          },
          "metadata": {}
        },
        {
          "output_type": "stream",
          "name": "stdout",
          "text": [
            "The evaluation score after epoch 87: 0.7694566616655579\n"
          ]
        },
        {
          "output_type": "display_data",
          "data": {
            "application/vnd.jupyter.widget-view+json": {
              "model_id": "ef821df2e3fb4951aafe9d540b390658",
              "version_minor": 0,
              "version_major": 2
            },
            "text/plain": [
              "Iteration:   0%|          | 0/63 [00:00<?, ?it/s]"
            ]
          },
          "metadata": {}
        },
        {
          "output_type": "stream",
          "name": "stdout",
          "text": [
            "The evaluation score after epoch 88: 0.7708468272692899\n"
          ]
        },
        {
          "output_type": "display_data",
          "data": {
            "application/vnd.jupyter.widget-view+json": {
              "model_id": "24430ffae79f46b0aa868337e3628561",
              "version_minor": 0,
              "version_major": 2
            },
            "text/plain": [
              "Iteration:   0%|          | 0/63 [00:00<?, ?it/s]"
            ]
          },
          "metadata": {}
        },
        {
          "output_type": "stream",
          "name": "stdout",
          "text": [
            "The evaluation score after epoch 89: 0.7757124068823513\n"
          ]
        },
        {
          "output_type": "display_data",
          "data": {
            "application/vnd.jupyter.widget-view+json": {
              "model_id": "260a145c80da4b18b83d6cbdb8a4d903",
              "version_minor": 0,
              "version_major": 2
            },
            "text/plain": [
              "Iteration:   0%|          | 0/63 [00:00<?, ?it/s]"
            ]
          },
          "metadata": {}
        },
        {
          "output_type": "stream",
          "name": "stdout",
          "text": [
            "The evaluation score after epoch 90: 0.7757124068823513\n"
          ]
        },
        {
          "output_type": "display_data",
          "data": {
            "application/vnd.jupyter.widget-view+json": {
              "model_id": "7bafc8e2962645a78ceceaa81f0eac6c",
              "version_minor": 0,
              "version_major": 2
            },
            "text/plain": [
              "Iteration:   0%|          | 0/63 [00:00<?, ?it/s]"
            ]
          },
          "metadata": {}
        },
        {
          "output_type": "stream",
          "name": "stdout",
          "text": [
            "The evaluation score after epoch 91: 0.777797655287949\n"
          ]
        },
        {
          "output_type": "display_data",
          "data": {
            "application/vnd.jupyter.widget-view+json": {
              "model_id": "38cacf9355f5473d85ee3cf501c7e8c4",
              "version_minor": 0,
              "version_major": 2
            },
            "text/plain": [
              "Iteration:   0%|          | 0/63 [00:00<?, ?it/s]"
            ]
          },
          "metadata": {}
        },
        {
          "output_type": "stream",
          "name": "stdout",
          "text": [
            "The evaluation score after epoch 92: 0.7729320756748875\n"
          ]
        },
        {
          "output_type": "display_data",
          "data": {
            "application/vnd.jupyter.widget-view+json": {
              "model_id": "13d50ad981d94a5dab2371d360468bde",
              "version_minor": 0,
              "version_major": 2
            },
            "text/plain": [
              "Iteration:   0%|          | 0/63 [00:00<?, ?it/s]"
            ]
          },
          "metadata": {}
        },
        {
          "output_type": "stream",
          "name": "stdout",
          "text": [
            "The evaluation score after epoch 93: 0.7736271584767535\n"
          ]
        },
        {
          "output_type": "display_data",
          "data": {
            "application/vnd.jupyter.widget-view+json": {
              "model_id": "586395a26069439c9d9825a9403c30be",
              "version_minor": 0,
              "version_major": 2
            },
            "text/plain": [
              "Iteration:   0%|          | 0/63 [00:00<?, ?it/s]"
            ]
          },
          "metadata": {}
        },
        {
          "output_type": "stream",
          "name": "stdout",
          "text": [
            "The evaluation score after epoch 94: 0.7764074896842171\n"
          ]
        },
        {
          "output_type": "display_data",
          "data": {
            "application/vnd.jupyter.widget-view+json": {
              "model_id": "327b37dc99e848f59b66d9932685f013",
              "version_minor": 0,
              "version_major": 2
            },
            "text/plain": [
              "Iteration:   0%|          | 0/63 [00:00<?, ?it/s]"
            ]
          },
          "metadata": {}
        },
        {
          "output_type": "stream",
          "name": "stdout",
          "text": [
            "The evaluation score after epoch 95: 0.7687615788636921\n"
          ]
        },
        {
          "output_type": "display_data",
          "data": {
            "application/vnd.jupyter.widget-view+json": {
              "model_id": "682510bc60fa43e894f60d450b6a62c0",
              "version_minor": 0,
              "version_major": 2
            },
            "text/plain": [
              "Iteration:   0%|          | 0/63 [00:00<?, ?it/s]"
            ]
          },
          "metadata": {}
        },
        {
          "output_type": "stream",
          "name": "stdout",
          "text": [
            "The evaluation score after epoch 96: 0.7687615788636921\n"
          ]
        },
        {
          "output_type": "display_data",
          "data": {
            "application/vnd.jupyter.widget-view+json": {
              "model_id": "a9eb1168a8554c6597e715415c7be77d",
              "version_minor": 0,
              "version_major": 2
            },
            "text/plain": [
              "Iteration:   0%|          | 0/63 [00:00<?, ?it/s]"
            ]
          },
          "metadata": {}
        },
        {
          "output_type": "stream",
          "name": "stdout",
          "text": [
            "The evaluation score after epoch 97: 0.7812730692972785\n"
          ]
        },
        {
          "output_type": "display_data",
          "data": {
            "application/vnd.jupyter.widget-view+json": {
              "model_id": "0504be6a1a9a43c5bdbbec58b17a5ad5",
              "version_minor": 0,
              "version_major": 2
            },
            "text/plain": [
              "Iteration:   0%|          | 0/63 [00:00<?, ?it/s]"
            ]
          },
          "metadata": {}
        },
        {
          "output_type": "stream",
          "name": "stdout",
          "text": [
            "The evaluation score after epoch 98: 0.7638959992506308\n"
          ]
        },
        {
          "output_type": "display_data",
          "data": {
            "application/vnd.jupyter.widget-view+json": {
              "model_id": "478592ff0f7a4bc39ae105f5dbe85327",
              "version_minor": 0,
              "version_major": 2
            },
            "text/plain": [
              "Iteration:   0%|          | 0/63 [00:00<?, ?it/s]"
            ]
          },
          "metadata": {}
        },
        {
          "output_type": "stream",
          "name": "stdout",
          "text": [
            "The evaluation score after epoch 99: 0.7708468272692899\n"
          ]
        }
      ]
    },
    {
      "cell_type": "markdown",
      "metadata": {
        "id": "c1coNEWzsUA_"
      },
      "source": [
        "During the fine-tuning training, the validation score (score of set that the model is not train on) improved from 65% to 79% (The best weights saved, not the last ones).\n",
        "<br>\n",
        "Not a lot of improvement after epoch 18.\n",
        "<br>\n",
        "Future improvement: add early stopping\n",
        "\n"
      ]
    },
    {
      "cell_type": "markdown",
      "metadata": {
        "id": "Jh1kbgwDPysB"
      },
      "source": [
        "## Configure the test set paths"
      ]
    },
    {
      "cell_type": "code",
      "metadata": {
        "id": "A2nad7xbPysD"
      },
      "source": [
        "sentence_transformer_model = SentenceTransformer(model_path)\n",
        "transformer_path = os.path.join(output_path, \"results\" + \"_\" + time_stamp)\n",
        "if not os.path.exists(transformer_path):\n",
        "    os.makedirs(transformer_path)"
      ],
      "execution_count": null,
      "outputs": []
    },
    {
      "cell_type": "markdown",
      "metadata": {
        "id": "R6WI0rH1PysF"
      },
      "source": [
        "## Test the model after the fine-tuning"
      ]
    },
    {
      "cell_type": "code",
      "metadata": {
        "id": "-bAj-6-ePysH",
        "colab": {
          "base_uri": "https://localhost:8080/"
        },
        "outputId": "d824f288-7630-42e4-eb4a-d213cb2e0c2d"
      },
      "source": [
        "# prepare the data to the model\n",
        "input_test_examples_list = test_df[[\"title_en\", \"description_summary\", \"label\"]].apply(lambda x: InputExample(texts=[x['title_en'], str(x['description_summary'])], label=torch.full([1], x[\"label\"], dtype=torch.float)),axis=1)\n",
        "input_test_examples_list=list(input_test_examples_list)\n",
        "# implement next steps\n",
        "\n",
        "\n",
        "test_evaluator = evaluation.EmbeddingSimilarityEvaluator.from_input_examples(input_test_examples_list)\n",
        "test_evaluator(sentence_transformer_model, output_path=transformer_path)"
      ],
      "execution_count": null,
      "outputs": [
        {
          "output_type": "execute_result",
          "data": {
            "text/plain": [
              "0.7673714132599603"
            ]
          },
          "metadata": {},
          "execution_count": 29
        }
      ]
    },
    {
      "cell_type": "markdown",
      "metadata": {
        "id": "utTqTfe5uK1n"
      },
      "source": [
        "Test performance is 76.7%"
      ]
    }
  ]
}